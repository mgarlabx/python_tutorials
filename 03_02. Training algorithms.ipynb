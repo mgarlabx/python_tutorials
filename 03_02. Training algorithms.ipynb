{
 "cells": [
  {
   "cell_type": "markdown",
   "metadata": {},
   "source": [
    "# Python Tutorials\n",
    "\n",
    "### Training algorithms\n",
    "\n",
    "Solvertank Digital Science   \n",
    "[http://www.solvertank.com](http://www.solvertank.com)   \n",
    "<img src=\"cube.gif\" align=\"left\" width=\"50\" />"
   ]
  },
  {
   "cell_type": "code",
   "execution_count": 1,
   "metadata": {},
   "outputs": [],
   "source": [
    "# Load dataset \n",
    "# https://scikit-learn.org/stable/modules/generated/sklearn.datasets.load_breast_cancer.html\n",
    "from sklearn.datasets import load_breast_cancer\n",
    "data = load_breast_cancer()"
   ]
  },
  {
   "cell_type": "code",
   "execution_count": 2,
   "metadata": {},
   "outputs": [],
   "source": [
    "# Split data\n",
    "# https://scikit-learn.org/stable/modules/generated/sklearn.model_selection.train_test_split.html\n",
    "from sklearn.model_selection import train_test_split\n",
    "X_train, X_test, y_train, y_test = train_test_split(data['data'], data['target'], test_size=0.33)"
   ]
  },
  {
   "cell_type": "code",
   "execution_count": 3,
   "metadata": {},
   "outputs": [],
   "source": [
    "# Naive Bayes\n",
    "# https://scikit-learn.org/stable/modules/generated/sklearn.naive_bayes.GaussianNB.html\n",
    "from sklearn.naive_bayes import GaussianNB\n",
    "NB = GaussianNB() #load algorithm\n",
    "NB.fit(X_train, y_train) #train\n",
    "y_pred_NB = NB.predict(X_test) #predict "
   ]
  },
  {
   "cell_type": "code",
   "execution_count": 4,
   "metadata": {},
   "outputs": [],
   "source": [
    "# Logistic Regression\n",
    "# https://scikit-learn.org/stable/modules/generated/sklearn.linear_model.LogisticRegression.html\n",
    "from sklearn.linear_model import LogisticRegression\n",
    "LR = LogisticRegression(solver='newton-cg') #load algorithm\n",
    "LR.fit(X_train, y_train) #train\n",
    "y_pred_LR = LR.predict(X_test) #predict "
   ]
  },
  {
   "cell_type": "code",
   "execution_count": 5,
   "metadata": {},
   "outputs": [],
   "source": [
    "# Neural Network\n",
    "# https://scikit-learn.org/stable/modules/generated/sklearn.neural_network.MLPClassifier.html\n",
    "from sklearn.neural_network import MLPClassifier\n",
    "NN = MLPClassifier(hidden_layer_sizes=(13,13,13),max_iter=800) #load algorithm\n",
    "NN.fit(X_train, y_train) #train\n",
    "y_pred_NN = NN.predict(X_test) #predict "
   ]
  },
  {
   "cell_type": "code",
   "execution_count": 6,
   "metadata": {},
   "outputs": [],
   "source": [
    "# Random Forest\n",
    "# https://scikit-learn.org/stable/modules/generated/sklearn.ensemble.RandomForestClassifier.html\n",
    "from sklearn.ensemble import RandomForestClassifier\n",
    "RF = RandomForestClassifier(n_estimators=100) #load algorithm  \n",
    "RF.fit(X_train, y_train) #train\n",
    "y_pred_RF = RF.predict(X_test) #predict"
   ]
  },
  {
   "cell_type": "code",
   "execution_count": 7,
   "metadata": {},
   "outputs": [],
   "source": [
    "# K-Nearest Neighbors\n",
    "# https://scikit-learn.org/stable/modules/generated/sklearn.neighbors.KNeighborsClassifier.html\n",
    "from sklearn.neighbors import KNeighborsClassifier\n",
    "KN = KNeighborsClassifier() #load algorithm\n",
    "KN.fit(X_train, y_train) #train \n",
    "y_pred_KN = KN.predict(X_test) #predict"
   ]
  },
  {
   "cell_type": "code",
   "execution_count": 8,
   "metadata": {},
   "outputs": [
    {
     "name": "stderr",
     "output_type": "stream",
     "text": [
      "/Users/iMacMgar/anaconda3/lib/python3.7/site-packages/sklearn/svm/base.py:929: ConvergenceWarning: Liblinear failed to converge, increase the number of iterations.\n",
      "  \"the number of iterations.\", ConvergenceWarning)\n"
     ]
    }
   ],
   "source": [
    "# Support Vector Machine (SVM)\n",
    "# https://scikit-learn.org/stable/modules/generated/sklearn.svm.LinearSVC.html\n",
    "from sklearn.svm import LinearSVC\n",
    "SV = LinearSVC() #load algorithm\n",
    "SV.fit(X_train, y_train) #train \n",
    "y_pred_SV = SV.predict(X_test) #predict"
   ]
  },
  {
   "cell_type": "code",
   "execution_count": 9,
   "metadata": {},
   "outputs": [
    {
     "name": "stdout",
     "output_type": "stream",
     "text": [
      "NB: 0.9148936170212766\n",
      "LR: 0.9468085106382979\n",
      "NN: 0.9521276595744681\n",
      "RF: 0.9468085106382979\n",
      "KN: 0.925531914893617\n",
      "SV: 0.9202127659574468\n"
     ]
    }
   ],
   "source": [
    "# Accuracy\n",
    "# https://scikit-learn.org/stable/modules/generated/sklearn.metrics.accuracy_score.html\n",
    "from sklearn.metrics import accuracy_score\n",
    "print(\"NB: \" + str(accuracy_score(y_test, y_pred_NB)))\n",
    "print(\"LR: \" + str(accuracy_score(y_test, y_pred_LR)))\n",
    "print(\"NN: \" + str(accuracy_score(y_test, y_pred_NN)))\n",
    "print(\"RF: \" + str(accuracy_score(y_test, y_pred_RF)))\n",
    "print(\"KN: \" + str(accuracy_score(y_test, y_pred_KN)))\n",
    "print(\"SV: \" + str(accuracy_score(y_test, y_pred_SV)))"
   ]
  }
 ],
 "metadata": {
  "kernelspec": {
   "display_name": "Python 3 (ipykernel)",
   "language": "python",
   "name": "python3"
  },
  "language_info": {
   "codemirror_mode": {
    "name": "ipython",
    "version": 3
   },
   "file_extension": ".py",
   "mimetype": "text/x-python",
   "name": "python",
   "nbconvert_exporter": "python",
   "pygments_lexer": "ipython3",
   "version": "3.11.5"
  }
 },
 "nbformat": 4,
 "nbformat_minor": 2
}
