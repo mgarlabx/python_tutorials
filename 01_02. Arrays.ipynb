{
 "cells": [
  {
   "cell_type": "markdown",
   "metadata": {},
   "source": [
    "# Python Tutorials\n",
    "\n",
    "### Arrays\n",
    "\n",
    "Solvertank Digital Science   \n",
    "[http://www.solvertank.com](http://www.solvertank.com)   \n",
    "<img src=\"cube.gif\" align=\"left\" width=\"50\" />"
   ]
  },
  {
   "cell_type": "markdown",
   "metadata": {},
   "source": [
    "## List\n",
    "content **can** be changed"
   ]
  },
  {
   "cell_type": "code",
   "execution_count": 1,
   "metadata": {
    "scrolled": true
   },
   "outputs": [
    {
     "name": "stdout",
     "output_type": "stream",
     "text": [
      "['Mango', 'Peach', 'Melon', 'Papaya', 'Coconut']\n",
      "<class 'list'>\n"
     ]
    }
   ],
   "source": [
    "fruits = ['Mango', 'Peach', 'Melon', 'Papaya', 'Coconut']\n",
    "print(fruits)\n",
    "print(type(fruits))"
   ]
  },
  {
   "cell_type": "code",
   "execution_count": 2,
   "metadata": {
    "scrolled": true
   },
   "outputs": [
    {
     "name": "stdout",
     "output_type": "stream",
     "text": [
      "['Mango', 'Peach', 'Melon', 'Papaya', 'Coconut']\n",
      "<class 'list'>\n"
     ]
    }
   ],
   "source": [
    "#or\n",
    "fruits = list(('Mango', 'Peach', 'Melon', 'Papaya', 'Coconut'))\n",
    "print(fruits)\n",
    "print(type(fruits))"
   ]
  },
  {
   "cell_type": "code",
   "execution_count": 3,
   "metadata": {},
   "outputs": [
    {
     "name": "stdout",
     "output_type": "stream",
     "text": [
      "['Mango', 'Peach', 'Melon', 'Papaya', 'Coconut']\n",
      "<class 'list'>\n"
     ]
    }
   ],
   "source": [
    "#or\n",
    "fruits = []\n",
    "fruits.append('Mango')\n",
    "fruits.append('Peach')\n",
    "fruits.append('Melon')\n",
    "fruits.append('Papaya')\n",
    "fruits.append('Coconut')\n",
    "print(fruits)\n",
    "print(type(fruits))"
   ]
  },
  {
   "cell_type": "code",
   "execution_count": 4,
   "metadata": {
    "scrolled": true
   },
   "outputs": [
    {
     "name": "stdout",
     "output_type": "stream",
     "text": [
      "Yes\n"
     ]
    }
   ],
   "source": [
    "# find\n",
    "if 'Mango' not in fruits:\n",
    "    print('No')\n",
    "else:\n",
    "    print('Yes')"
   ]
  },
  {
   "cell_type": "code",
   "execution_count": 5,
   "metadata": {},
   "outputs": [
    {
     "name": "stdout",
     "output_type": "stream",
     "text": [
      "['CHANGED', 'Peach', 'Melon', 'Papaya', 'Coconut']\n",
      "<class 'list'>\n"
     ]
    }
   ],
   "source": [
    "# changing\n",
    "fruits[0] = 'CHANGED'\n",
    "print(fruits)\n",
    "print(type(fruits))"
   ]
  },
  {
   "cell_type": "code",
   "execution_count": 6,
   "metadata": {},
   "outputs": [
    {
     "name": "stdout",
     "output_type": "stream",
     "text": [
      "[['Mango', 'Peach', 'Melon', 'Papaya', 'Coconut'], ['Orange', 'Cherry', 'Avocato', 'Pineapple', 'Lemon']]\n",
      "<class 'list'>\n"
     ]
    }
   ],
   "source": [
    "# multidimensional list\n",
    "fruits = [['Mango', 'Peach', 'Melon', 'Papaya', 'Coconut'],['Orange', 'Cherry', 'Avocato', 'Pineapple', 'Lemon']]\n",
    "print(fruits)\n",
    "print(type(fruits))"
   ]
  },
  {
   "cell_type": "code",
   "execution_count": 7,
   "metadata": {},
   "outputs": [
    {
     "name": "stdout",
     "output_type": "stream",
     "text": [
      "['Mango', 'Peach', 'Melon', 'Papaya', 'Coconut']\n",
      "['Orange', 'Cherry', 'Avocato', 'Pineapple', 'Lemon']\n"
     ]
    }
   ],
   "source": [
    "# loop\n",
    "for i in fruits: \n",
    "    print(i) "
   ]
  },
  {
   "cell_type": "code",
   "execution_count": 8,
   "metadata": {},
   "outputs": [
    {
     "name": "stdout",
     "output_type": "stream",
     "text": [
      "2\n"
     ]
    }
   ],
   "source": [
    "# size\n",
    "print(len(fruits))"
   ]
  },
  {
   "cell_type": "markdown",
   "metadata": {},
   "source": [
    "## Tuple\n",
    "content **cannot** be changed"
   ]
  },
  {
   "cell_type": "code",
   "execution_count": 9,
   "metadata": {
    "scrolled": true
   },
   "outputs": [
    {
     "name": "stdout",
     "output_type": "stream",
     "text": [
      "('Mango', 'Peach', 'Melon', 'Papaya', 'Coconut')\n",
      "<class 'tuple'>\n"
     ]
    }
   ],
   "source": [
    "fruits = ('Mango', 'Peach', 'Melon', 'Papaya', 'Coconut')\n",
    "print(fruits)\n",
    "print(type(fruits))"
   ]
  },
  {
   "cell_type": "code",
   "execution_count": 10,
   "metadata": {
    "scrolled": true
   },
   "outputs": [
    {
     "ename": "TypeError",
     "evalue": "'tuple' object does not support item assignment",
     "output_type": "error",
     "traceback": [
      "\u001b[0;31m---------------------------------------------------------------------------\u001b[0m",
      "\u001b[0;31mTypeError\u001b[0m                                 Traceback (most recent call last)",
      "\u001b[0;32m<ipython-input-10-511ca66e080c>\u001b[0m in \u001b[0;36m<module>\u001b[0;34m\u001b[0m\n\u001b[0;32m----> 1\u001b[0;31m \u001b[0mfruits\u001b[0m\u001b[0;34m[\u001b[0m\u001b[0;36m0\u001b[0m\u001b[0;34m]\u001b[0m \u001b[0;34m=\u001b[0m \u001b[0;34m'CHANGED'\u001b[0m\u001b[0;34m\u001b[0m\u001b[0;34m\u001b[0m\u001b[0m\n\u001b[0m\u001b[1;32m      2\u001b[0m \u001b[0;31m# see error message: tuple' object does not support item assignment\u001b[0m\u001b[0;34m\u001b[0m\u001b[0;34m\u001b[0m\u001b[0;34m\u001b[0m\u001b[0m\n",
      "\u001b[0;31mTypeError\u001b[0m: 'tuple' object does not support item assignment"
     ]
    }
   ],
   "source": [
    "fruits[0] = 'CHANGED'\n",
    "# see error message: tuple' object does not support item assignment"
   ]
  },
  {
   "cell_type": "code",
   "execution_count": 11,
   "metadata": {},
   "outputs": [
    {
     "name": "stdout",
     "output_type": "stream",
     "text": [
      "Mango\n",
      "Peach\n",
      "Melon\n",
      "Papaya\n",
      "Coconut\n"
     ]
    }
   ],
   "source": [
    "# loop\n",
    "for i in fruits: \n",
    "    print(i) "
   ]
  },
  {
   "cell_type": "markdown",
   "metadata": {},
   "source": [
    "## Set\n",
    "Remove duplicates"
   ]
  },
  {
   "cell_type": "code",
   "execution_count": 12,
   "metadata": {},
   "outputs": [
    {
     "name": "stdout",
     "output_type": "stream",
     "text": [
      "{'Peach', 'Papaya', 'Mango', 'Coconut', 'Melon'}\n",
      "<class 'set'>\n"
     ]
    }
   ],
   "source": [
    "fruits = {'Mango', 'Peach', 'Coconut', 'Mango', 'Melon', 'Papaya', 'Mango', 'Mango', 'Coconut'}\n",
    "print(fruits)\n",
    "print(type(fruits))"
   ]
  },
  {
   "cell_type": "code",
   "execution_count": 13,
   "metadata": {},
   "outputs": [
    {
     "name": "stdout",
     "output_type": "stream",
     "text": [
      "Peach\n",
      "Papaya\n",
      "Mango\n",
      "Coconut\n",
      "Melon\n"
     ]
    }
   ],
   "source": [
    "# loop\n",
    "for i in fruits: \n",
    "    print(i) "
   ]
  },
  {
   "cell_type": "markdown",
   "metadata": {},
   "source": [
    "## Dictionary\n",
    "key: value"
   ]
  },
  {
   "cell_type": "code",
   "execution_count": 14,
   "metadata": {},
   "outputs": [
    {
     "name": "stdout",
     "output_type": "stream",
     "text": [
      "{'Mango': 12, 'Peach': 45, 'Melon': 48, 'Papaya': 12, 'Coconut': 2}\n",
      "<class 'dict'>\n"
     ]
    }
   ],
   "source": [
    "fruits = {'Mango': 12, 'Peach': 45, 'Melon': 48, 'Papaya': 12, 'Coconut': 2}\n",
    "print(fruits)\n",
    "print(type(fruits))"
   ]
  },
  {
   "cell_type": "code",
   "execution_count": 15,
   "metadata": {
    "scrolled": false
   },
   "outputs": [
    {
     "name": "stdout",
     "output_type": "stream",
     "text": [
      "dict_keys(['Mango', 'Peach', 'Melon', 'Papaya', 'Coconut'])\n"
     ]
    }
   ],
   "source": [
    "print(fruits.keys())"
   ]
  },
  {
   "cell_type": "code",
   "execution_count": 16,
   "metadata": {},
   "outputs": [
    {
     "name": "stdout",
     "output_type": "stream",
     "text": [
      "dict_values([12, 45, 48, 12, 2])\n"
     ]
    }
   ],
   "source": [
    "print(fruits.values())"
   ]
  },
  {
   "cell_type": "code",
   "execution_count": 17,
   "metadata": {},
   "outputs": [
    {
     "name": "stdout",
     "output_type": "stream",
     "text": [
      "45\n"
     ]
    }
   ],
   "source": [
    "print(fruits['Peach'])"
   ]
  },
  {
   "cell_type": "code",
   "execution_count": 18,
   "metadata": {
    "scrolled": false
   },
   "outputs": [
    {
     "name": "stdout",
     "output_type": "stream",
     "text": [
      "Mango\n",
      "12\n",
      "Peach\n",
      "45\n",
      "Melon\n",
      "48\n",
      "Papaya\n",
      "12\n",
      "Coconut\n",
      "2\n"
     ]
    }
   ],
   "source": [
    "# loop\n",
    "for key, value in fruits.items():\n",
    "    print(key)\n",
    "    print(value) "
   ]
  }
 ],
 "metadata": {
  "kernelspec": {
   "display_name": "Python 3 (ipykernel)",
   "language": "python",
   "name": "python3"
  },
  "language_info": {
   "codemirror_mode": {
    "name": "ipython",
    "version": 3
   },
   "file_extension": ".py",
   "mimetype": "text/x-python",
   "name": "python",
   "nbconvert_exporter": "python",
   "pygments_lexer": "ipython3",
   "version": "3.11.5"
  }
 },
 "nbformat": 4,
 "nbformat_minor": 2
}
