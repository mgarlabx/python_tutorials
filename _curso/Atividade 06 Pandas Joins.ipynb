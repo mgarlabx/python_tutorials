{
 "cells": [
  {
   "cell_type": "code",
   "execution_count": 1,
   "id": "0792dbf6",
   "metadata": {},
   "outputs": [],
   "source": [
    "import pandas as pd"
   ]
  },
  {
   "cell_type": "code",
   "execution_count": 2,
   "id": "0a8a46a3",
   "metadata": {},
   "outputs": [],
   "source": [
    "df1 = pd.read_excel('_data/Tab1.xlsx')\n",
    "df2 = pd.read_excel('_data/Tab2.xlsx')\n",
    "df3 = pd.read_excel('_data/Tab3.xlsx')"
   ]
  },
  {
   "cell_type": "code",
   "execution_count": 3,
   "id": "1e5eb0e5",
   "metadata": {},
   "outputs": [
    {
     "data": {
      "text/plain": [
       "(18, 5)"
      ]
     },
     "execution_count": 3,
     "metadata": {},
     "output_type": "execute_result"
    }
   ],
   "source": [
    "df1.shape"
   ]
  },
  {
   "cell_type": "code",
   "execution_count": 4,
   "id": "89b02e1d",
   "metadata": {},
   "outputs": [
    {
     "data": {
      "text/plain": [
       "(75, 5)"
      ]
     },
     "execution_count": 4,
     "metadata": {},
     "output_type": "execute_result"
    }
   ],
   "source": [
    "df2.shape"
   ]
  },
  {
   "cell_type": "code",
   "execution_count": 5,
   "id": "2e2ad08e",
   "metadata": {},
   "outputs": [
    {
     "data": {
      "text/plain": [
       "(80, 4)"
      ]
     },
     "execution_count": 5,
     "metadata": {},
     "output_type": "execute_result"
    }
   ],
   "source": [
    "df3.shape"
   ]
  },
  {
   "cell_type": "code",
   "execution_count": 6,
   "id": "27b04333",
   "metadata": {},
   "outputs": [
    {
     "data": {
      "text/html": [
       "<div>\n",
       "<style scoped>\n",
       "    .dataframe tbody tr th:only-of-type {\n",
       "        vertical-align: middle;\n",
       "    }\n",
       "\n",
       "    .dataframe tbody tr th {\n",
       "        vertical-align: top;\n",
       "    }\n",
       "\n",
       "    .dataframe thead th {\n",
       "        text-align: right;\n",
       "    }\n",
       "</style>\n",
       "<table border=\"1\" class=\"dataframe\">\n",
       "  <thead>\n",
       "    <tr style=\"text-align: right;\">\n",
       "      <th></th>\n",
       "      <th>Nome</th>\n",
       "      <th>RG</th>\n",
       "      <th>CPF</th>\n",
       "      <th>Sexo</th>\n",
       "      <th>Nascimento</th>\n",
       "    </tr>\n",
       "  </thead>\n",
       "  <tbody>\n",
       "    <tr>\n",
       "      <th>0</th>\n",
       "      <td>Clarice Gonzales</td>\n",
       "      <td>88829099450</td>\n",
       "      <td>49492282913</td>\n",
       "      <td>F</td>\n",
       "      <td>2008-02-25</td>\n",
       "    </tr>\n",
       "    <tr>\n",
       "      <th>1</th>\n",
       "      <td>Maria Isis Ramos</td>\n",
       "      <td>43437187759</td>\n",
       "      <td>83067956448</td>\n",
       "      <td>F</td>\n",
       "      <td>1999-02-27</td>\n",
       "    </tr>\n",
       "    <tr>\n",
       "      <th>2</th>\n",
       "      <td>Daniela Palma</td>\n",
       "      <td>58946054283</td>\n",
       "      <td>32723668271</td>\n",
       "      <td>M</td>\n",
       "      <td>1982-03-03</td>\n",
       "    </tr>\n",
       "    <tr>\n",
       "      <th>3</th>\n",
       "      <td>Maria da Conceição Antunes</td>\n",
       "      <td>23000712291</td>\n",
       "      <td>39961145321</td>\n",
       "      <td>F</td>\n",
       "      <td>1973-03-05</td>\n",
       "    </tr>\n",
       "    <tr>\n",
       "      <th>4</th>\n",
       "      <td>Valentina Williams</td>\n",
       "      <td>68948263392</td>\n",
       "      <td>39936634316</td>\n",
       "      <td>F</td>\n",
       "      <td>1956-03-09</td>\n",
       "    </tr>\n",
       "  </tbody>\n",
       "</table>\n",
       "</div>"
      ],
      "text/plain": [
       "                         Nome           RG          CPF Sexo  Nascimento\n",
       "0            Clarice Gonzales  88829099450  49492282913    F  2008-02-25\n",
       "1            Maria Isis Ramos  43437187759  83067956448    F  1999-02-27\n",
       "2               Daniela Palma  58946054283  32723668271    M  1982-03-03\n",
       "3  Maria da Conceição Antunes  23000712291  39961145321    F  1973-03-05\n",
       "4          Valentina Williams  68948263392  39936634316    F  1956-03-09"
      ]
     },
     "execution_count": 6,
     "metadata": {},
     "output_type": "execute_result"
    }
   ],
   "source": [
    "df1.head()"
   ]
  },
  {
   "cell_type": "code",
   "execution_count": 7,
   "id": "fba9da4b",
   "metadata": {
    "scrolled": true
   },
   "outputs": [
    {
     "data": {
      "text/html": [
       "<div>\n",
       "<style scoped>\n",
       "    .dataframe tbody tr th:only-of-type {\n",
       "        vertical-align: middle;\n",
       "    }\n",
       "\n",
       "    .dataframe tbody tr th {\n",
       "        vertical-align: top;\n",
       "    }\n",
       "\n",
       "    .dataframe thead th {\n",
       "        text-align: right;\n",
       "    }\n",
       "</style>\n",
       "<table border=\"1\" class=\"dataframe\">\n",
       "  <thead>\n",
       "    <tr style=\"text-align: right;\">\n",
       "      <th></th>\n",
       "      <th>Nome</th>\n",
       "      <th>RG</th>\n",
       "      <th>CPF</th>\n",
       "      <th>Sexo</th>\n",
       "      <th>Nascimento</th>\n",
       "    </tr>\n",
       "  </thead>\n",
       "  <tbody>\n",
       "    <tr>\n",
       "      <th>0</th>\n",
       "      <td>Augusto Baker</td>\n",
       "      <td>81824421711</td>\n",
       "      <td>70554061465</td>\n",
       "      <td>M</td>\n",
       "      <td>1999-02-27</td>\n",
       "    </tr>\n",
       "    <tr>\n",
       "      <th>1</th>\n",
       "      <td>Luiz Gustavo Perez</td>\n",
       "      <td>77235684057</td>\n",
       "      <td>59926297524</td>\n",
       "      <td>M</td>\n",
       "      <td>1978-03-04</td>\n",
       "    </tr>\n",
       "    <tr>\n",
       "      <th>2</th>\n",
       "      <td>Letícia Martin</td>\n",
       "      <td>57236082885</td>\n",
       "      <td>62735631735</td>\n",
       "      <td>F</td>\n",
       "      <td>1992-02-29</td>\n",
       "    </tr>\n",
       "    <tr>\n",
       "      <th>3</th>\n",
       "      <td>Maria Eduarda Parker</td>\n",
       "      <td>66977452731</td>\n",
       "      <td>39540568538</td>\n",
       "      <td>F</td>\n",
       "      <td>1996-02-28</td>\n",
       "    </tr>\n",
       "    <tr>\n",
       "      <th>4</th>\n",
       "      <td>Ricardo Taylor</td>\n",
       "      <td>39605161020</td>\n",
       "      <td>63099392510</td>\n",
       "      <td>M</td>\n",
       "      <td>1982-03-03</td>\n",
       "    </tr>\n",
       "  </tbody>\n",
       "</table>\n",
       "</div>"
      ],
      "text/plain": [
       "                   Nome           RG          CPF Sexo  Nascimento\n",
       "0         Augusto Baker  81824421711  70554061465    M  1999-02-27\n",
       "1    Luiz Gustavo Perez  77235684057  59926297524    M  1978-03-04\n",
       "2        Letícia Martin  57236082885  62735631735    F  1992-02-29\n",
       "3  Maria Eduarda Parker  66977452731  39540568538    F  1996-02-28\n",
       "4        Ricardo Taylor  39605161020  63099392510    M  1982-03-03"
      ]
     },
     "execution_count": 7,
     "metadata": {},
     "output_type": "execute_result"
    }
   ],
   "source": [
    "df2.head()"
   ]
  },
  {
   "cell_type": "code",
   "execution_count": 8,
   "id": "4b46e4f0",
   "metadata": {},
   "outputs": [
    {
     "data": {
      "text/html": [
       "<div>\n",
       "<style scoped>\n",
       "    .dataframe tbody tr th:only-of-type {\n",
       "        vertical-align: middle;\n",
       "    }\n",
       "\n",
       "    .dataframe tbody tr th {\n",
       "        vertical-align: top;\n",
       "    }\n",
       "\n",
       "    .dataframe thead th {\n",
       "        text-align: right;\n",
       "    }\n",
       "</style>\n",
       "<table border=\"1\" class=\"dataframe\">\n",
       "  <thead>\n",
       "    <tr style=\"text-align: right;\">\n",
       "      <th></th>\n",
       "      <th>CPF</th>\n",
       "      <th>Altura</th>\n",
       "      <th>Peso</th>\n",
       "      <th>Doenca</th>\n",
       "    </tr>\n",
       "  </thead>\n",
       "  <tbody>\n",
       "    <tr>\n",
       "      <th>0</th>\n",
       "      <td>59482859931</td>\n",
       "      <td>1.73</td>\n",
       "      <td>62.1</td>\n",
       "      <td>0</td>\n",
       "    </tr>\n",
       "    <tr>\n",
       "      <th>1</th>\n",
       "      <td>68817507213</td>\n",
       "      <td>1.47</td>\n",
       "      <td>75.6</td>\n",
       "      <td>1</td>\n",
       "    </tr>\n",
       "    <tr>\n",
       "      <th>2</th>\n",
       "      <td>76930633538</td>\n",
       "      <td>1.44</td>\n",
       "      <td>45.6</td>\n",
       "      <td>0</td>\n",
       "    </tr>\n",
       "    <tr>\n",
       "      <th>3</th>\n",
       "      <td>47303402300</td>\n",
       "      <td>1.58</td>\n",
       "      <td>47.4</td>\n",
       "      <td>0</td>\n",
       "    </tr>\n",
       "    <tr>\n",
       "      <th>4</th>\n",
       "      <td>70554061465</td>\n",
       "      <td>1.58</td>\n",
       "      <td>57.5</td>\n",
       "      <td>0</td>\n",
       "    </tr>\n",
       "  </tbody>\n",
       "</table>\n",
       "</div>"
      ],
      "text/plain": [
       "           CPF  Altura  Peso  Doenca\n",
       "0  59482859931    1.73  62.1       0\n",
       "1  68817507213    1.47  75.6       1\n",
       "2  76930633538    1.44  45.6       0\n",
       "3  47303402300    1.58  47.4       0\n",
       "4  70554061465    1.58  57.5       0"
      ]
     },
     "execution_count": 8,
     "metadata": {},
     "output_type": "execute_result"
    }
   ],
   "source": [
    "df3.head()"
   ]
  },
  {
   "cell_type": "markdown",
   "id": "0a77602e",
   "metadata": {},
   "source": [
    "## Union all"
   ]
  },
  {
   "cell_type": "code",
   "execution_count": 9,
   "id": "8fa50b58",
   "metadata": {},
   "outputs": [],
   "source": [
    "df_union = df1.append(df2)"
   ]
  },
  {
   "cell_type": "code",
   "execution_count": 10,
   "id": "56a01463",
   "metadata": {},
   "outputs": [
    {
     "data": {
      "text/plain": [
       "(93, 5)"
      ]
     },
     "execution_count": 10,
     "metadata": {},
     "output_type": "execute_result"
    }
   ],
   "source": [
    "df_union.shape"
   ]
  },
  {
   "cell_type": "code",
   "execution_count": 11,
   "id": "2f4629ba",
   "metadata": {},
   "outputs": [
    {
     "data": {
      "text/plain": [
       "'18 + 75 = 93'"
      ]
     },
     "execution_count": 11,
     "metadata": {},
     "output_type": "execute_result"
    }
   ],
   "source": [
    "str(df1.shape[0]) + ' + ' + str(df2.shape[0]) + ' = ' + str(df_union.shape[0])"
   ]
  },
  {
   "cell_type": "code",
   "execution_count": 12,
   "id": "17c9af05",
   "metadata": {},
   "outputs": [
    {
     "data": {
      "text/html": [
       "<div>\n",
       "<style scoped>\n",
       "    .dataframe tbody tr th:only-of-type {\n",
       "        vertical-align: middle;\n",
       "    }\n",
       "\n",
       "    .dataframe tbody tr th {\n",
       "        vertical-align: top;\n",
       "    }\n",
       "\n",
       "    .dataframe thead th {\n",
       "        text-align: right;\n",
       "    }\n",
       "</style>\n",
       "<table border=\"1\" class=\"dataframe\">\n",
       "  <thead>\n",
       "    <tr style=\"text-align: right;\">\n",
       "      <th></th>\n",
       "      <th>Nome</th>\n",
       "      <th>RG</th>\n",
       "      <th>CPF</th>\n",
       "      <th>Sexo</th>\n",
       "      <th>Nascimento</th>\n",
       "    </tr>\n",
       "  </thead>\n",
       "  <tbody>\n",
       "    <tr>\n",
       "      <th>0</th>\n",
       "      <td>Clarice Gonzales</td>\n",
       "      <td>88829099450</td>\n",
       "      <td>49492282913</td>\n",
       "      <td>F</td>\n",
       "      <td>2008-02-25</td>\n",
       "    </tr>\n",
       "    <tr>\n",
       "      <th>1</th>\n",
       "      <td>Maria Isis Ramos</td>\n",
       "      <td>43437187759</td>\n",
       "      <td>83067956448</td>\n",
       "      <td>F</td>\n",
       "      <td>1999-02-27</td>\n",
       "    </tr>\n",
       "    <tr>\n",
       "      <th>2</th>\n",
       "      <td>Daniela Palma</td>\n",
       "      <td>58946054283</td>\n",
       "      <td>32723668271</td>\n",
       "      <td>M</td>\n",
       "      <td>1982-03-03</td>\n",
       "    </tr>\n",
       "    <tr>\n",
       "      <th>3</th>\n",
       "      <td>Maria da Conceição Antunes</td>\n",
       "      <td>23000712291</td>\n",
       "      <td>39961145321</td>\n",
       "      <td>F</td>\n",
       "      <td>1973-03-05</td>\n",
       "    </tr>\n",
       "    <tr>\n",
       "      <th>4</th>\n",
       "      <td>Valentina Williams</td>\n",
       "      <td>68948263392</td>\n",
       "      <td>39936634316</td>\n",
       "      <td>F</td>\n",
       "      <td>1956-03-09</td>\n",
       "    </tr>\n",
       "    <tr>\n",
       "      <th>...</th>\n",
       "      <td>...</td>\n",
       "      <td>...</td>\n",
       "      <td>...</td>\n",
       "      <td>...</td>\n",
       "      <td>...</td>\n",
       "    </tr>\n",
       "    <tr>\n",
       "      <th>70</th>\n",
       "      <td>Pedro Henrique Ross</td>\n",
       "      <td>50510137436</td>\n",
       "      <td>49456444753</td>\n",
       "      <td>M</td>\n",
       "      <td>2000-02-27</td>\n",
       "    </tr>\n",
       "    <tr>\n",
       "      <th>71</th>\n",
       "      <td>Maria Laura Reyes</td>\n",
       "      <td>83292267664</td>\n",
       "      <td>55681722009</td>\n",
       "      <td>F</td>\n",
       "      <td>1960-03-08</td>\n",
       "    </tr>\n",
       "    <tr>\n",
       "      <th>72</th>\n",
       "      <td>Maria Almeida Prado</td>\n",
       "      <td>75070228106</td>\n",
       "      <td>31611277812</td>\n",
       "      <td>F</td>\n",
       "      <td>1954-03-10</td>\n",
       "    </tr>\n",
       "    <tr>\n",
       "      <th>73</th>\n",
       "      <td>Cauã Cook</td>\n",
       "      <td>93595616453</td>\n",
       "      <td>59422748376</td>\n",
       "      <td>M</td>\n",
       "      <td>1991-03-01</td>\n",
       "    </tr>\n",
       "    <tr>\n",
       "      <th>74</th>\n",
       "      <td>Lara Lee</td>\n",
       "      <td>88508679718</td>\n",
       "      <td>38284947986</td>\n",
       "      <td>F</td>\n",
       "      <td>2013-02-23</td>\n",
       "    </tr>\n",
       "  </tbody>\n",
       "</table>\n",
       "<p>93 rows × 5 columns</p>\n",
       "</div>"
      ],
      "text/plain": [
       "                          Nome           RG          CPF Sexo  Nascimento\n",
       "0             Clarice Gonzales  88829099450  49492282913    F  2008-02-25\n",
       "1             Maria Isis Ramos  43437187759  83067956448    F  1999-02-27\n",
       "2                Daniela Palma  58946054283  32723668271    M  1982-03-03\n",
       "3   Maria da Conceição Antunes  23000712291  39961145321    F  1973-03-05\n",
       "4           Valentina Williams  68948263392  39936634316    F  1956-03-09\n",
       "..                         ...          ...          ...  ...         ...\n",
       "70         Pedro Henrique Ross  50510137436  49456444753    M  2000-02-27\n",
       "71           Maria Laura Reyes  83292267664  55681722009    F  1960-03-08\n",
       "72         Maria Almeida Prado  75070228106  31611277812    F  1954-03-10\n",
       "73                   Cauã Cook  93595616453  59422748376    M  1991-03-01\n",
       "74                    Lara Lee  88508679718  38284947986    F  2013-02-23\n",
       "\n",
       "[93 rows x 5 columns]"
      ]
     },
     "execution_count": 12,
     "metadata": {},
     "output_type": "execute_result"
    }
   ],
   "source": [
    "df_union"
   ]
  },
  {
   "cell_type": "markdown",
   "id": "36faa44f",
   "metadata": {},
   "source": [
    "## Inner join"
   ]
  },
  {
   "cell_type": "code",
   "execution_count": 13,
   "id": "f5b5d032",
   "metadata": {},
   "outputs": [],
   "source": [
    "df_join = pd.merge(df_union, df3, on=['CPF'])"
   ]
  },
  {
   "cell_type": "code",
   "execution_count": 14,
   "id": "d1dca90c",
   "metadata": {},
   "outputs": [
    {
     "data": {
      "text/plain": [
       "(76, 8)"
      ]
     },
     "execution_count": 14,
     "metadata": {},
     "output_type": "execute_result"
    }
   ],
   "source": [
    "df_join.shape"
   ]
  },
  {
   "cell_type": "code",
   "execution_count": 15,
   "id": "9e6cb3cc",
   "metadata": {},
   "outputs": [
    {
     "data": {
      "text/plain": [
       "'93 + 80 = 76'"
      ]
     },
     "execution_count": 15,
     "metadata": {},
     "output_type": "execute_result"
    }
   ],
   "source": [
    "str(df_union.shape[0]) + ' + ' + str(df3.shape[0]) + ' = ' + str(df_join.shape[0])"
   ]
  },
  {
   "cell_type": "code",
   "execution_count": 16,
   "id": "10b07cc2",
   "metadata": {},
   "outputs": [
    {
     "data": {
      "text/html": [
       "<div>\n",
       "<style scoped>\n",
       "    .dataframe tbody tr th:only-of-type {\n",
       "        vertical-align: middle;\n",
       "    }\n",
       "\n",
       "    .dataframe tbody tr th {\n",
       "        vertical-align: top;\n",
       "    }\n",
       "\n",
       "    .dataframe thead th {\n",
       "        text-align: right;\n",
       "    }\n",
       "</style>\n",
       "<table border=\"1\" class=\"dataframe\">\n",
       "  <thead>\n",
       "    <tr style=\"text-align: right;\">\n",
       "      <th></th>\n",
       "      <th>Nome</th>\n",
       "      <th>RG</th>\n",
       "      <th>CPF</th>\n",
       "      <th>Sexo</th>\n",
       "      <th>Nascimento</th>\n",
       "      <th>Altura</th>\n",
       "      <th>Peso</th>\n",
       "      <th>Doenca</th>\n",
       "    </tr>\n",
       "  </thead>\n",
       "  <tbody>\n",
       "    <tr>\n",
       "      <th>0</th>\n",
       "      <td>Clarice Gonzales</td>\n",
       "      <td>88829099450</td>\n",
       "      <td>49492282913</td>\n",
       "      <td>F</td>\n",
       "      <td>2008-02-25</td>\n",
       "      <td>1.53</td>\n",
       "      <td>46.4</td>\n",
       "      <td>0</td>\n",
       "    </tr>\n",
       "    <tr>\n",
       "      <th>1</th>\n",
       "      <td>Maria Isis Ramos</td>\n",
       "      <td>43437187759</td>\n",
       "      <td>83067956448</td>\n",
       "      <td>F</td>\n",
       "      <td>1999-02-27</td>\n",
       "      <td>1.58</td>\n",
       "      <td>57.5</td>\n",
       "      <td>0</td>\n",
       "    </tr>\n",
       "    <tr>\n",
       "      <th>2</th>\n",
       "      <td>Daniela Palma</td>\n",
       "      <td>58946054283</td>\n",
       "      <td>32723668271</td>\n",
       "      <td>M</td>\n",
       "      <td>1982-03-03</td>\n",
       "      <td>1.50</td>\n",
       "      <td>63.3</td>\n",
       "      <td>0</td>\n",
       "    </tr>\n",
       "    <tr>\n",
       "      <th>3</th>\n",
       "      <td>Maria da Conceição Antunes</td>\n",
       "      <td>23000712291</td>\n",
       "      <td>39961145321</td>\n",
       "      <td>F</td>\n",
       "      <td>1973-03-05</td>\n",
       "      <td>1.69</td>\n",
       "      <td>70.6</td>\n",
       "      <td>0</td>\n",
       "    </tr>\n",
       "    <tr>\n",
       "      <th>4</th>\n",
       "      <td>Valentina Williams</td>\n",
       "      <td>68948263392</td>\n",
       "      <td>39936634316</td>\n",
       "      <td>F</td>\n",
       "      <td>1956-03-09</td>\n",
       "      <td>1.67</td>\n",
       "      <td>65.6</td>\n",
       "      <td>0</td>\n",
       "    </tr>\n",
       "    <tr>\n",
       "      <th>...</th>\n",
       "      <td>...</td>\n",
       "      <td>...</td>\n",
       "      <td>...</td>\n",
       "      <td>...</td>\n",
       "      <td>...</td>\n",
       "      <td>...</td>\n",
       "      <td>...</td>\n",
       "      <td>...</td>\n",
       "    </tr>\n",
       "    <tr>\n",
       "      <th>71</th>\n",
       "      <td>Erick Gonzales</td>\n",
       "      <td>70072604602</td>\n",
       "      <td>28965076874</td>\n",
       "      <td>M</td>\n",
       "      <td>1957-03-09</td>\n",
       "      <td>1.56</td>\n",
       "      <td>69.1</td>\n",
       "      <td>0</td>\n",
       "    </tr>\n",
       "    <tr>\n",
       "      <th>72</th>\n",
       "      <td>Maria Elisa Patel</td>\n",
       "      <td>48466221259</td>\n",
       "      <td>87576076064</td>\n",
       "      <td>F</td>\n",
       "      <td>2001-02-26</td>\n",
       "      <td>1.51</td>\n",
       "      <td>49.0</td>\n",
       "      <td>0</td>\n",
       "    </tr>\n",
       "    <tr>\n",
       "      <th>73</th>\n",
       "      <td>Maria Laura Reyes</td>\n",
       "      <td>83292267664</td>\n",
       "      <td>55681722009</td>\n",
       "      <td>F</td>\n",
       "      <td>1960-03-08</td>\n",
       "      <td>1.59</td>\n",
       "      <td>66.3</td>\n",
       "      <td>0</td>\n",
       "    </tr>\n",
       "    <tr>\n",
       "      <th>74</th>\n",
       "      <td>Cauã Cook</td>\n",
       "      <td>93595616453</td>\n",
       "      <td>59422748376</td>\n",
       "      <td>M</td>\n",
       "      <td>1991-03-01</td>\n",
       "      <td>1.67</td>\n",
       "      <td>61.4</td>\n",
       "      <td>0</td>\n",
       "    </tr>\n",
       "    <tr>\n",
       "      <th>75</th>\n",
       "      <td>Lara Lee</td>\n",
       "      <td>88508679718</td>\n",
       "      <td>38284947986</td>\n",
       "      <td>F</td>\n",
       "      <td>2013-02-23</td>\n",
       "      <td>1.24</td>\n",
       "      <td>27.3</td>\n",
       "      <td>0</td>\n",
       "    </tr>\n",
       "  </tbody>\n",
       "</table>\n",
       "<p>76 rows × 8 columns</p>\n",
       "</div>"
      ],
      "text/plain": [
       "                          Nome           RG          CPF Sexo  Nascimento  \\\n",
       "0             Clarice Gonzales  88829099450  49492282913    F  2008-02-25   \n",
       "1             Maria Isis Ramos  43437187759  83067956448    F  1999-02-27   \n",
       "2                Daniela Palma  58946054283  32723668271    M  1982-03-03   \n",
       "3   Maria da Conceição Antunes  23000712291  39961145321    F  1973-03-05   \n",
       "4           Valentina Williams  68948263392  39936634316    F  1956-03-09   \n",
       "..                         ...          ...          ...  ...         ...   \n",
       "71              Erick Gonzales  70072604602  28965076874    M  1957-03-09   \n",
       "72           Maria Elisa Patel  48466221259  87576076064    F  2001-02-26   \n",
       "73           Maria Laura Reyes  83292267664  55681722009    F  1960-03-08   \n",
       "74                   Cauã Cook  93595616453  59422748376    M  1991-03-01   \n",
       "75                    Lara Lee  88508679718  38284947986    F  2013-02-23   \n",
       "\n",
       "    Altura  Peso  Doenca  \n",
       "0     1.53  46.4       0  \n",
       "1     1.58  57.5       0  \n",
       "2     1.50  63.3       0  \n",
       "3     1.69  70.6       0  \n",
       "4     1.67  65.6       0  \n",
       "..     ...   ...     ...  \n",
       "71    1.56  69.1       0  \n",
       "72    1.51  49.0       0  \n",
       "73    1.59  66.3       0  \n",
       "74    1.67  61.4       0  \n",
       "75    1.24  27.3       0  \n",
       "\n",
       "[76 rows x 8 columns]"
      ]
     },
     "execution_count": 16,
     "metadata": {},
     "output_type": "execute_result"
    }
   ],
   "source": [
    "df_join"
   ]
  },
  {
   "cell_type": "code",
   "execution_count": 17,
   "id": "b07fb11f",
   "metadata": {
    "scrolled": true
   },
   "outputs": [
    {
     "data": {
      "text/plain": [
       "Nome          False\n",
       "RG            False\n",
       "CPF           False\n",
       "Sexo          False\n",
       "Nascimento    False\n",
       "Altura        False\n",
       "Peso          False\n",
       "Doenca        False\n",
       "dtype: bool"
      ]
     },
     "execution_count": 17,
     "metadata": {},
     "output_type": "execute_result"
    }
   ],
   "source": [
    "df_join.isnull().any(axis=0)"
   ]
  },
  {
   "cell_type": "markdown",
   "id": "fc107539",
   "metadata": {},
   "source": [
    "## Left join"
   ]
  },
  {
   "cell_type": "code",
   "execution_count": 18,
   "id": "86d1b283",
   "metadata": {},
   "outputs": [],
   "source": [
    "df_join_left = pd.merge(df_union, df3, on=['CPF'], how='left')"
   ]
  },
  {
   "cell_type": "code",
   "execution_count": 19,
   "id": "bf85ae3b",
   "metadata": {},
   "outputs": [
    {
     "data": {
      "text/plain": [
       "(93, 8)"
      ]
     },
     "execution_count": 19,
     "metadata": {},
     "output_type": "execute_result"
    }
   ],
   "source": [
    "df_join_left.shape"
   ]
  },
  {
   "cell_type": "code",
   "execution_count": 20,
   "id": "9551ec2d",
   "metadata": {},
   "outputs": [
    {
     "data": {
      "text/plain": [
       "'93 + 80 = 93'"
      ]
     },
     "execution_count": 20,
     "metadata": {},
     "output_type": "execute_result"
    }
   ],
   "source": [
    "str(df_union.shape[0]) + ' + ' + str(df3.shape[0]) + ' = ' + str(df_join_left.shape[0])"
   ]
  },
  {
   "cell_type": "code",
   "execution_count": 21,
   "id": "b685ff5e",
   "metadata": {},
   "outputs": [
    {
     "data": {
      "text/html": [
       "<div>\n",
       "<style scoped>\n",
       "    .dataframe tbody tr th:only-of-type {\n",
       "        vertical-align: middle;\n",
       "    }\n",
       "\n",
       "    .dataframe tbody tr th {\n",
       "        vertical-align: top;\n",
       "    }\n",
       "\n",
       "    .dataframe thead th {\n",
       "        text-align: right;\n",
       "    }\n",
       "</style>\n",
       "<table border=\"1\" class=\"dataframe\">\n",
       "  <thead>\n",
       "    <tr style=\"text-align: right;\">\n",
       "      <th></th>\n",
       "      <th>Nome</th>\n",
       "      <th>RG</th>\n",
       "      <th>CPF</th>\n",
       "      <th>Sexo</th>\n",
       "      <th>Nascimento</th>\n",
       "      <th>Altura</th>\n",
       "      <th>Peso</th>\n",
       "      <th>Doenca</th>\n",
       "    </tr>\n",
       "  </thead>\n",
       "  <tbody>\n",
       "    <tr>\n",
       "      <th>0</th>\n",
       "      <td>Clarice Gonzales</td>\n",
       "      <td>88829099450</td>\n",
       "      <td>49492282913</td>\n",
       "      <td>F</td>\n",
       "      <td>2008-02-25</td>\n",
       "      <td>1.53</td>\n",
       "      <td>46.4</td>\n",
       "      <td>0.0</td>\n",
       "    </tr>\n",
       "    <tr>\n",
       "      <th>1</th>\n",
       "      <td>Maria Isis Ramos</td>\n",
       "      <td>43437187759</td>\n",
       "      <td>83067956448</td>\n",
       "      <td>F</td>\n",
       "      <td>1999-02-27</td>\n",
       "      <td>1.58</td>\n",
       "      <td>57.5</td>\n",
       "      <td>0.0</td>\n",
       "    </tr>\n",
       "    <tr>\n",
       "      <th>2</th>\n",
       "      <td>Daniela Palma</td>\n",
       "      <td>58946054283</td>\n",
       "      <td>32723668271</td>\n",
       "      <td>M</td>\n",
       "      <td>1982-03-03</td>\n",
       "      <td>1.50</td>\n",
       "      <td>63.3</td>\n",
       "      <td>0.0</td>\n",
       "    </tr>\n",
       "    <tr>\n",
       "      <th>3</th>\n",
       "      <td>Maria da Conceição Antunes</td>\n",
       "      <td>23000712291</td>\n",
       "      <td>39961145321</td>\n",
       "      <td>F</td>\n",
       "      <td>1973-03-05</td>\n",
       "      <td>1.69</td>\n",
       "      <td>70.6</td>\n",
       "      <td>0.0</td>\n",
       "    </tr>\n",
       "    <tr>\n",
       "      <th>4</th>\n",
       "      <td>Valentina Williams</td>\n",
       "      <td>68948263392</td>\n",
       "      <td>39936634316</td>\n",
       "      <td>F</td>\n",
       "      <td>1956-03-09</td>\n",
       "      <td>1.67</td>\n",
       "      <td>65.6</td>\n",
       "      <td>0.0</td>\n",
       "    </tr>\n",
       "    <tr>\n",
       "      <th>...</th>\n",
       "      <td>...</td>\n",
       "      <td>...</td>\n",
       "      <td>...</td>\n",
       "      <td>...</td>\n",
       "      <td>...</td>\n",
       "      <td>...</td>\n",
       "      <td>...</td>\n",
       "      <td>...</td>\n",
       "    </tr>\n",
       "    <tr>\n",
       "      <th>88</th>\n",
       "      <td>Pedro Henrique Ross</td>\n",
       "      <td>50510137436</td>\n",
       "      <td>49456444753</td>\n",
       "      <td>M</td>\n",
       "      <td>2000-02-27</td>\n",
       "      <td>NaN</td>\n",
       "      <td>NaN</td>\n",
       "      <td>NaN</td>\n",
       "    </tr>\n",
       "    <tr>\n",
       "      <th>89</th>\n",
       "      <td>Maria Laura Reyes</td>\n",
       "      <td>83292267664</td>\n",
       "      <td>55681722009</td>\n",
       "      <td>F</td>\n",
       "      <td>1960-03-08</td>\n",
       "      <td>1.59</td>\n",
       "      <td>66.3</td>\n",
       "      <td>0.0</td>\n",
       "    </tr>\n",
       "    <tr>\n",
       "      <th>90</th>\n",
       "      <td>Maria Almeida Prado</td>\n",
       "      <td>75070228106</td>\n",
       "      <td>31611277812</td>\n",
       "      <td>F</td>\n",
       "      <td>1954-03-10</td>\n",
       "      <td>NaN</td>\n",
       "      <td>NaN</td>\n",
       "      <td>NaN</td>\n",
       "    </tr>\n",
       "    <tr>\n",
       "      <th>91</th>\n",
       "      <td>Cauã Cook</td>\n",
       "      <td>93595616453</td>\n",
       "      <td>59422748376</td>\n",
       "      <td>M</td>\n",
       "      <td>1991-03-01</td>\n",
       "      <td>1.67</td>\n",
       "      <td>61.4</td>\n",
       "      <td>0.0</td>\n",
       "    </tr>\n",
       "    <tr>\n",
       "      <th>92</th>\n",
       "      <td>Lara Lee</td>\n",
       "      <td>88508679718</td>\n",
       "      <td>38284947986</td>\n",
       "      <td>F</td>\n",
       "      <td>2013-02-23</td>\n",
       "      <td>1.24</td>\n",
       "      <td>27.3</td>\n",
       "      <td>0.0</td>\n",
       "    </tr>\n",
       "  </tbody>\n",
       "</table>\n",
       "<p>93 rows × 8 columns</p>\n",
       "</div>"
      ],
      "text/plain": [
       "                          Nome           RG          CPF Sexo  Nascimento  \\\n",
       "0             Clarice Gonzales  88829099450  49492282913    F  2008-02-25   \n",
       "1             Maria Isis Ramos  43437187759  83067956448    F  1999-02-27   \n",
       "2                Daniela Palma  58946054283  32723668271    M  1982-03-03   \n",
       "3   Maria da Conceição Antunes  23000712291  39961145321    F  1973-03-05   \n",
       "4           Valentina Williams  68948263392  39936634316    F  1956-03-09   \n",
       "..                         ...          ...          ...  ...         ...   \n",
       "88         Pedro Henrique Ross  50510137436  49456444753    M  2000-02-27   \n",
       "89           Maria Laura Reyes  83292267664  55681722009    F  1960-03-08   \n",
       "90         Maria Almeida Prado  75070228106  31611277812    F  1954-03-10   \n",
       "91                   Cauã Cook  93595616453  59422748376    M  1991-03-01   \n",
       "92                    Lara Lee  88508679718  38284947986    F  2013-02-23   \n",
       "\n",
       "    Altura  Peso  Doenca  \n",
       "0     1.53  46.4     0.0  \n",
       "1     1.58  57.5     0.0  \n",
       "2     1.50  63.3     0.0  \n",
       "3     1.69  70.6     0.0  \n",
       "4     1.67  65.6     0.0  \n",
       "..     ...   ...     ...  \n",
       "88     NaN   NaN     NaN  \n",
       "89    1.59  66.3     0.0  \n",
       "90     NaN   NaN     NaN  \n",
       "91    1.67  61.4     0.0  \n",
       "92    1.24  27.3     0.0  \n",
       "\n",
       "[93 rows x 8 columns]"
      ]
     },
     "execution_count": 21,
     "metadata": {},
     "output_type": "execute_result"
    }
   ],
   "source": [
    "df_join_left"
   ]
  },
  {
   "cell_type": "code",
   "execution_count": 22,
   "id": "1f4c6fc5",
   "metadata": {},
   "outputs": [
    {
     "data": {
      "text/plain": [
       "Nome          False\n",
       "RG            False\n",
       "CPF           False\n",
       "Sexo          False\n",
       "Nascimento    False\n",
       "Altura         True\n",
       "Peso           True\n",
       "Doenca         True\n",
       "dtype: bool"
      ]
     },
     "execution_count": 22,
     "metadata": {},
     "output_type": "execute_result"
    }
   ],
   "source": [
    "df_join_left.isnull().any(axis=0)"
   ]
  },
  {
   "cell_type": "code",
   "execution_count": null,
   "id": "8d4b043c",
   "metadata": {},
   "outputs": [],
   "source": []
  },
  {
   "cell_type": "markdown",
   "id": "2239134d",
   "metadata": {},
   "source": [
    "## Right join"
   ]
  },
  {
   "cell_type": "code",
   "execution_count": 23,
   "id": "eeb03e40",
   "metadata": {},
   "outputs": [],
   "source": [
    "df_join_right = pd.merge(df_union, df3, on=['CPF'], how='right')"
   ]
  },
  {
   "cell_type": "code",
   "execution_count": 24,
   "id": "46e9c5f0",
   "metadata": {},
   "outputs": [
    {
     "data": {
      "text/plain": [
       "(80, 8)"
      ]
     },
     "execution_count": 24,
     "metadata": {},
     "output_type": "execute_result"
    }
   ],
   "source": [
    "df_join_right.shape"
   ]
  },
  {
   "cell_type": "code",
   "execution_count": 25,
   "id": "d4a029bc",
   "metadata": {},
   "outputs": [
    {
     "data": {
      "text/plain": [
       "'93 + 80 = 80'"
      ]
     },
     "execution_count": 25,
     "metadata": {},
     "output_type": "execute_result"
    }
   ],
   "source": [
    "str(df_union.shape[0]) + ' + ' + str(df3.shape[0]) + ' = ' + str(df_join_right.shape[0])"
   ]
  },
  {
   "cell_type": "code",
   "execution_count": 26,
   "id": "46f65deb",
   "metadata": {},
   "outputs": [
    {
     "data": {
      "text/html": [
       "<div>\n",
       "<style scoped>\n",
       "    .dataframe tbody tr th:only-of-type {\n",
       "        vertical-align: middle;\n",
       "    }\n",
       "\n",
       "    .dataframe tbody tr th {\n",
       "        vertical-align: top;\n",
       "    }\n",
       "\n",
       "    .dataframe thead th {\n",
       "        text-align: right;\n",
       "    }\n",
       "</style>\n",
       "<table border=\"1\" class=\"dataframe\">\n",
       "  <thead>\n",
       "    <tr style=\"text-align: right;\">\n",
       "      <th></th>\n",
       "      <th>Nome</th>\n",
       "      <th>RG</th>\n",
       "      <th>CPF</th>\n",
       "      <th>Sexo</th>\n",
       "      <th>Nascimento</th>\n",
       "      <th>Altura</th>\n",
       "      <th>Peso</th>\n",
       "      <th>Doenca</th>\n",
       "    </tr>\n",
       "  </thead>\n",
       "  <tbody>\n",
       "    <tr>\n",
       "      <th>0</th>\n",
       "      <td>André Allen</td>\n",
       "      <td>9.981651e+10</td>\n",
       "      <td>59482859931</td>\n",
       "      <td>M</td>\n",
       "      <td>1995-02-28</td>\n",
       "      <td>1.73</td>\n",
       "      <td>62.1</td>\n",
       "      <td>0</td>\n",
       "    </tr>\n",
       "    <tr>\n",
       "      <th>1</th>\n",
       "      <td>Rafaela Turner</td>\n",
       "      <td>8.157228e+10</td>\n",
       "      <td>68817507213</td>\n",
       "      <td>F</td>\n",
       "      <td>1975-03-05</td>\n",
       "      <td>1.47</td>\n",
       "      <td>75.6</td>\n",
       "      <td>1</td>\n",
       "    </tr>\n",
       "    <tr>\n",
       "      <th>2</th>\n",
       "      <td>Enrico Foster</td>\n",
       "      <td>8.544740e+10</td>\n",
       "      <td>76930633538</td>\n",
       "      <td>M</td>\n",
       "      <td>2007-02-25</td>\n",
       "      <td>1.44</td>\n",
       "      <td>45.6</td>\n",
       "      <td>0</td>\n",
       "    </tr>\n",
       "    <tr>\n",
       "      <th>3</th>\n",
       "      <td>Nicolau Silva Júnior</td>\n",
       "      <td>5.887614e+10</td>\n",
       "      <td>47303402300</td>\n",
       "      <td>M</td>\n",
       "      <td>2005-02-25</td>\n",
       "      <td>1.58</td>\n",
       "      <td>47.4</td>\n",
       "      <td>0</td>\n",
       "    </tr>\n",
       "    <tr>\n",
       "      <th>4</th>\n",
       "      <td>Augusto Baker</td>\n",
       "      <td>8.182442e+10</td>\n",
       "      <td>70554061465</td>\n",
       "      <td>M</td>\n",
       "      <td>1999-02-27</td>\n",
       "      <td>1.58</td>\n",
       "      <td>57.5</td>\n",
       "      <td>0</td>\n",
       "    </tr>\n",
       "    <tr>\n",
       "      <th>...</th>\n",
       "      <td>...</td>\n",
       "      <td>...</td>\n",
       "      <td>...</td>\n",
       "      <td>...</td>\n",
       "      <td>...</td>\n",
       "      <td>...</td>\n",
       "      <td>...</td>\n",
       "      <td>...</td>\n",
       "    </tr>\n",
       "    <tr>\n",
       "      <th>75</th>\n",
       "      <td>Erick Gonzales</td>\n",
       "      <td>7.007260e+10</td>\n",
       "      <td>28965076874</td>\n",
       "      <td>M</td>\n",
       "      <td>1957-03-09</td>\n",
       "      <td>1.56</td>\n",
       "      <td>69.1</td>\n",
       "      <td>0</td>\n",
       "    </tr>\n",
       "    <tr>\n",
       "      <th>76</th>\n",
       "      <td>Yasmin Wood</td>\n",
       "      <td>3.073330e+10</td>\n",
       "      <td>76110396505</td>\n",
       "      <td>F</td>\n",
       "      <td>1960-03-08</td>\n",
       "      <td>1.59</td>\n",
       "      <td>66.3</td>\n",
       "      <td>0</td>\n",
       "    </tr>\n",
       "    <tr>\n",
       "      <th>77</th>\n",
       "      <td>Maria Elisa Patel</td>\n",
       "      <td>4.846622e+10</td>\n",
       "      <td>87576076064</td>\n",
       "      <td>F</td>\n",
       "      <td>2001-02-26</td>\n",
       "      <td>1.51</td>\n",
       "      <td>49.0</td>\n",
       "      <td>0</td>\n",
       "    </tr>\n",
       "    <tr>\n",
       "      <th>78</th>\n",
       "      <td>Lara Lee</td>\n",
       "      <td>8.850868e+10</td>\n",
       "      <td>38284947986</td>\n",
       "      <td>F</td>\n",
       "      <td>2013-02-23</td>\n",
       "      <td>1.24</td>\n",
       "      <td>27.3</td>\n",
       "      <td>0</td>\n",
       "    </tr>\n",
       "    <tr>\n",
       "      <th>79</th>\n",
       "      <td>Giovanna Howard</td>\n",
       "      <td>8.558208e+10</td>\n",
       "      <td>78532093277</td>\n",
       "      <td>F</td>\n",
       "      <td>1966-03-07</td>\n",
       "      <td>1.59</td>\n",
       "      <td>66.3</td>\n",
       "      <td>0</td>\n",
       "    </tr>\n",
       "  </tbody>\n",
       "</table>\n",
       "<p>80 rows × 8 columns</p>\n",
       "</div>"
      ],
      "text/plain": [
       "                    Nome            RG          CPF Sexo  Nascimento  Altura  \\\n",
       "0            André Allen  9.981651e+10  59482859931    M  1995-02-28    1.73   \n",
       "1         Rafaela Turner  8.157228e+10  68817507213    F  1975-03-05    1.47   \n",
       "2          Enrico Foster  8.544740e+10  76930633538    M  2007-02-25    1.44   \n",
       "3   Nicolau Silva Júnior  5.887614e+10  47303402300    M  2005-02-25    1.58   \n",
       "4          Augusto Baker  8.182442e+10  70554061465    M  1999-02-27    1.58   \n",
       "..                   ...           ...          ...  ...         ...     ...   \n",
       "75        Erick Gonzales  7.007260e+10  28965076874    M  1957-03-09    1.56   \n",
       "76           Yasmin Wood  3.073330e+10  76110396505    F  1960-03-08    1.59   \n",
       "77     Maria Elisa Patel  4.846622e+10  87576076064    F  2001-02-26    1.51   \n",
       "78              Lara Lee  8.850868e+10  38284947986    F  2013-02-23    1.24   \n",
       "79       Giovanna Howard  8.558208e+10  78532093277    F  1966-03-07    1.59   \n",
       "\n",
       "    Peso  Doenca  \n",
       "0   62.1       0  \n",
       "1   75.6       1  \n",
       "2   45.6       0  \n",
       "3   47.4       0  \n",
       "4   57.5       0  \n",
       "..   ...     ...  \n",
       "75  69.1       0  \n",
       "76  66.3       0  \n",
       "77  49.0       0  \n",
       "78  27.3       0  \n",
       "79  66.3       0  \n",
       "\n",
       "[80 rows x 8 columns]"
      ]
     },
     "execution_count": 26,
     "metadata": {},
     "output_type": "execute_result"
    }
   ],
   "source": [
    "df_join_right"
   ]
  },
  {
   "cell_type": "code",
   "execution_count": 27,
   "id": "73ab3b62",
   "metadata": {},
   "outputs": [
    {
     "data": {
      "text/plain": [
       "Nome           True\n",
       "RG             True\n",
       "CPF           False\n",
       "Sexo           True\n",
       "Nascimento     True\n",
       "Altura        False\n",
       "Peso          False\n",
       "Doenca        False\n",
       "dtype: bool"
      ]
     },
     "execution_count": 27,
     "metadata": {},
     "output_type": "execute_result"
    }
   ],
   "source": [
    "df_join_right.isnull().any(axis=0)"
   ]
  }
 ],
 "metadata": {
  "kernelspec": {
   "display_name": "Python 3 (ipykernel)",
   "language": "python",
   "name": "python3"
  },
  "language_info": {
   "codemirror_mode": {
    "name": "ipython",
    "version": 3
   },
   "file_extension": ".py",
   "mimetype": "text/x-python",
   "name": "python",
   "nbconvert_exporter": "python",
   "pygments_lexer": "ipython3",
   "version": "3.9.7"
  }
 },
 "nbformat": 4,
 "nbformat_minor": 5
}
