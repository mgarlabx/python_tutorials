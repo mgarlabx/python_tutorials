{
 "cells": [
  {
   "cell_type": "markdown",
   "id": "3631c126",
   "metadata": {},
   "source": [
    "# Curso: (Mini) Introdução ao Python para processamento e análise de dados \n",
    "Maurício Garcia, março 2023"
   ]
  },
  {
   "cell_type": "markdown",
   "id": "bac3e895",
   "metadata": {},
   "source": [
    "### TIPOS DE DADOS  \n",
    "\n",
    "Há dois tipos básicos de dados:  \n",
    "- Número: não deve estar escrito entre aspas, exemplo: 48  \n",
    "- String: deve sempre estar escrito entre aspas, exemplo: \"banana\"  "
   ]
  },
  {
   "cell_type": "code",
   "execution_count": 1,
   "id": "620707c9",
   "metadata": {},
   "outputs": [
    {
     "data": {
      "text/plain": [
       "48"
      ]
     },
     "execution_count": 1,
     "metadata": {},
     "output_type": "execute_result"
    }
   ],
   "source": [
    "48"
   ]
  },
  {
   "cell_type": "code",
   "execution_count": 2,
   "id": "dc291f4f",
   "metadata": {},
   "outputs": [
    {
     "data": {
      "text/plain": [
       "50"
      ]
     },
     "execution_count": 2,
     "metadata": {},
     "output_type": "execute_result"
    }
   ],
   "source": [
    "48 + 2"
   ]
  },
  {
   "cell_type": "code",
   "execution_count": 3,
   "id": "9091cf5d",
   "metadata": {},
   "outputs": [
    {
     "data": {
      "text/plain": [
       "'banana'"
      ]
     },
     "execution_count": 3,
     "metadata": {},
     "output_type": "execute_result"
    }
   ],
   "source": [
    "\"banana\""
   ]
  },
  {
   "cell_type": "markdown",
   "id": "671f162c",
   "metadata": {},
   "source": [
    "### VARIÁVEIS\n",
    "\n",
    "\n",
    "Variáveis são nomes atribuídos que representam dados."
   ]
  },
  {
   "cell_type": "code",
   "execution_count": 4,
   "id": "175124e6",
   "metadata": {},
   "outputs": [],
   "source": [
    "# Pode ser qualquer nome, por exemplo:\n",
    "x = 48"
   ]
  },
  {
   "cell_type": "code",
   "execution_count": 5,
   "id": "4aeb51f1",
   "metadata": {},
   "outputs": [
    {
     "data": {
      "text/plain": [
       "48"
      ]
     },
     "execution_count": 5,
     "metadata": {},
     "output_type": "execute_result"
    }
   ],
   "source": [
    "# Nesse exemplo, a variável \"x\" contém um dado do tipo \"número\"\n",
    "x"
   ]
  },
  {
   "cell_type": "code",
   "execution_count": 6,
   "id": "1f008e38",
   "metadata": {},
   "outputs": [],
   "source": [
    "y = \"banana\""
   ]
  },
  {
   "cell_type": "code",
   "execution_count": 7,
   "id": "fd826de3",
   "metadata": {},
   "outputs": [
    {
     "data": {
      "text/plain": [
       "'banana'"
      ]
     },
     "execution_count": 7,
     "metadata": {},
     "output_type": "execute_result"
    }
   ],
   "source": [
    "# Nesse exemplo, a variável \"y\" contém um dado do tipo \"string\"\n",
    "y"
   ]
  },
  {
   "cell_type": "markdown",
   "id": "3002057b",
   "metadata": {},
   "source": [
    "Notar que se uma palavra é escrita sem aspas, ela é uma variável. Mas se ela é escrita com aspas, ela é um dado tipo \"string\".  \n",
    "  \n",
    "Exemplos:  \n",
    "\n",
    "\"banana\" é um string (com aspas)  \n",
    "banana é uma variável (sem aspas)  \n"
   ]
  },
  {
   "cell_type": "markdown",
   "id": "0112453c",
   "metadata": {},
   "source": [
    "## Mais exemplos"
   ]
  },
  {
   "cell_type": "code",
   "execution_count": 8,
   "id": "e7304abc",
   "metadata": {},
   "outputs": [],
   "source": [
    "x = \"Oi\""
   ]
  },
  {
   "cell_type": "code",
   "execution_count": 9,
   "id": "4b7dfaf6",
   "metadata": {},
   "outputs": [
    {
     "data": {
      "text/plain": [
       "'Oi'"
      ]
     },
     "execution_count": 9,
     "metadata": {},
     "output_type": "execute_result"
    }
   ],
   "source": [
    "x"
   ]
  },
  {
   "cell_type": "code",
   "execution_count": 10,
   "id": "44ef0f6d",
   "metadata": {
    "scrolled": false
   },
   "outputs": [
    {
     "name": "stdout",
     "output_type": "stream",
     "text": [
      "Oi\n"
     ]
    }
   ],
   "source": [
    "print('Oi')"
   ]
  },
  {
   "cell_type": "code",
   "execution_count": 11,
   "id": "e7b1ddab",
   "metadata": {},
   "outputs": [
    {
     "name": "stdout",
     "output_type": "stream",
     "text": [
      "Oi\n"
     ]
    }
   ],
   "source": [
    "print(x)"
   ]
  },
  {
   "cell_type": "code",
   "execution_count": 12,
   "id": "a5299e90",
   "metadata": {},
   "outputs": [],
   "source": [
    "altura = 1.74\n",
    "peso = 60"
   ]
  },
  {
   "cell_type": "code",
   "execution_count": 13,
   "id": "93041998",
   "metadata": {},
   "outputs": [
    {
     "data": {
      "text/plain": [
       "75"
      ]
     },
     "execution_count": 13,
     "metadata": {},
     "output_type": "execute_result"
    }
   ],
   "source": [
    "peso + 15"
   ]
  },
  {
   "cell_type": "code",
   "execution_count": 14,
   "id": "02bd5834",
   "metadata": {},
   "outputs": [
    {
     "data": {
      "text/plain": [
       "3.48"
      ]
     },
     "execution_count": 14,
     "metadata": {},
     "output_type": "execute_result"
    }
   ],
   "source": [
    "altura*2"
   ]
  },
  {
   "cell_type": "code",
   "execution_count": 15,
   "id": "399a26fe",
   "metadata": {},
   "outputs": [
    {
     "data": {
      "text/plain": [
       "3.0276"
      ]
     },
     "execution_count": 15,
     "metadata": {},
     "output_type": "execute_result"
    }
   ],
   "source": [
    "altura**2"
   ]
  },
  {
   "cell_type": "code",
   "execution_count": 16,
   "id": "77285d6c",
   "metadata": {},
   "outputs": [
    {
     "data": {
      "text/plain": [
       "19.817677368212443"
      ]
     },
     "execution_count": 16,
     "metadata": {},
     "output_type": "execute_result"
    }
   ],
   "source": [
    "peso/(altura**2)"
   ]
  },
  {
   "cell_type": "code",
   "execution_count": 17,
   "id": "c1aafae3",
   "metadata": {},
   "outputs": [],
   "source": [
    "IMC = peso/(altura**2)"
   ]
  },
  {
   "cell_type": "code",
   "execution_count": 18,
   "id": "672117da",
   "metadata": {},
   "outputs": [
    {
     "name": "stdout",
     "output_type": "stream",
     "text": [
      "OK\n"
     ]
    }
   ],
   "source": [
    "if IMC > 25:\n",
    "    print('cuidado')\n",
    "elif IMC > 20 and IMC <= 25:\n",
    "    print('quase')\n",
    "else:\n",
    "    print('OK')"
   ]
  },
  {
   "cell_type": "code",
   "execution_count": 19,
   "id": "4cc1503c",
   "metadata": {},
   "outputs": [
    {
     "name": "stdout",
     "output_type": "stream",
     "text": [
      "0\n",
      "60\n",
      "120\n",
      "180\n",
      "240\n",
      "300\n",
      "360\n",
      "420\n",
      "480\n",
      "540\n"
     ]
    }
   ],
   "source": [
    "for x in range(10): \n",
    "    #if x > 5: break\n",
    "    print(x*peso)"
   ]
  },
  {
   "cell_type": "code",
   "execution_count": 20,
   "id": "a13fe329",
   "metadata": {},
   "outputs": [],
   "source": [
    "# calcula o IMC\n",
    "def fIMC(peso, altura):\n",
    "    x = peso/(altura**2)\n",
    "    return x"
   ]
  },
  {
   "cell_type": "code",
   "execution_count": 21,
   "id": "cc43ef2b",
   "metadata": {},
   "outputs": [
    {
     "data": {
      "text/plain": [
       "19.817677368212443"
      ]
     },
     "execution_count": 21,
     "metadata": {},
     "output_type": "execute_result"
    }
   ],
   "source": [
    "fIMC(60, 1.74)"
   ]
  },
  {
   "cell_type": "code",
   "execution_count": 22,
   "id": "9982c807",
   "metadata": {},
   "outputs": [
    {
     "data": {
      "text/plain": [
       "26.47210743801653"
      ]
     },
     "execution_count": 22,
     "metadata": {},
     "output_type": "execute_result"
    }
   ],
   "source": [
    "fIMC(82, 1.76)"
   ]
  },
  {
   "cell_type": "code",
   "execution_count": 23,
   "id": "f63782fe",
   "metadata": {},
   "outputs": [
    {
     "data": {
      "text/plain": [
       "20.06920415224914"
      ]
     },
     "execution_count": 23,
     "metadata": {},
     "output_type": "execute_result"
    }
   ],
   "source": [
    "fIMC(58, 1.70)"
   ]
  },
  {
   "cell_type": "code",
   "execution_count": null,
   "id": "3d0c97ae",
   "metadata": {},
   "outputs": [],
   "source": []
  }
 ],
 "metadata": {
  "kernelspec": {
   "display_name": "Python 3 (ipykernel)",
   "language": "python",
   "name": "python3"
  },
  "language_info": {
   "codemirror_mode": {
    "name": "ipython",
    "version": 3
   },
   "file_extension": ".py",
   "mimetype": "text/x-python",
   "name": "python",
   "nbconvert_exporter": "python",
   "pygments_lexer": "ipython3",
   "version": "3.9.7"
  }
 },
 "nbformat": 4,
 "nbformat_minor": 5
}
