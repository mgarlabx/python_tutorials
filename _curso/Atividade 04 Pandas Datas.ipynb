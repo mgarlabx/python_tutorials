{
 "cells": [
  {
   "cell_type": "markdown",
   "id": "4d4cca93",
   "metadata": {},
   "source": [
    "# Curso: (Mini) Introdução ao Python para processamento e análise de dados \n",
    "Maurício Garcia, março 2023"
   ]
  },
  {
   "cell_type": "code",
   "execution_count": 1,
   "id": "3d47c311",
   "metadata": {},
   "outputs": [],
   "source": [
    "import pandas as pd"
   ]
  },
  {
   "cell_type": "code",
   "execution_count": 2,
   "id": "3e7de9e3",
   "metadata": {},
   "outputs": [],
   "source": [
    "df = pd.read_excel('_data/Tab1.xlsx')"
   ]
  },
  {
   "cell_type": "code",
   "execution_count": 3,
   "id": "09781138",
   "metadata": {},
   "outputs": [
    {
     "data": {
      "text/html": [
       "<div>\n",
       "<style scoped>\n",
       "    .dataframe tbody tr th:only-of-type {\n",
       "        vertical-align: middle;\n",
       "    }\n",
       "\n",
       "    .dataframe tbody tr th {\n",
       "        vertical-align: top;\n",
       "    }\n",
       "\n",
       "    .dataframe thead th {\n",
       "        text-align: right;\n",
       "    }\n",
       "</style>\n",
       "<table border=\"1\" class=\"dataframe\">\n",
       "  <thead>\n",
       "    <tr style=\"text-align: right;\">\n",
       "      <th></th>\n",
       "      <th>Nome</th>\n",
       "      <th>RG</th>\n",
       "      <th>CPF</th>\n",
       "      <th>Sexo</th>\n",
       "      <th>Nascimento</th>\n",
       "    </tr>\n",
       "  </thead>\n",
       "  <tbody>\n",
       "    <tr>\n",
       "      <th>0</th>\n",
       "      <td>Clarice Gonzales</td>\n",
       "      <td>88829099450</td>\n",
       "      <td>49492282913</td>\n",
       "      <td>F</td>\n",
       "      <td>2008-02-25</td>\n",
       "    </tr>\n",
       "    <tr>\n",
       "      <th>1</th>\n",
       "      <td>Maria Isis Ramos</td>\n",
       "      <td>43437187759</td>\n",
       "      <td>83067956448</td>\n",
       "      <td>F</td>\n",
       "      <td>1999-02-27</td>\n",
       "    </tr>\n",
       "    <tr>\n",
       "      <th>2</th>\n",
       "      <td>Daniela Palma</td>\n",
       "      <td>58946054283</td>\n",
       "      <td>32723668271</td>\n",
       "      <td>M</td>\n",
       "      <td>1982-03-03</td>\n",
       "    </tr>\n",
       "    <tr>\n",
       "      <th>3</th>\n",
       "      <td>Maria da Conceição Antunes</td>\n",
       "      <td>23000712291</td>\n",
       "      <td>39961145321</td>\n",
       "      <td>F</td>\n",
       "      <td>1973-03-05</td>\n",
       "    </tr>\n",
       "    <tr>\n",
       "      <th>4</th>\n",
       "      <td>Valentina Williams</td>\n",
       "      <td>68948263392</td>\n",
       "      <td>39936634316</td>\n",
       "      <td>F</td>\n",
       "      <td>1956-03-09</td>\n",
       "    </tr>\n",
       "  </tbody>\n",
       "</table>\n",
       "</div>"
      ],
      "text/plain": [
       "                         Nome           RG          CPF Sexo  Nascimento\n",
       "0            Clarice Gonzales  88829099450  49492282913    F  2008-02-25\n",
       "1            Maria Isis Ramos  43437187759  83067956448    F  1999-02-27\n",
       "2               Daniela Palma  58946054283  32723668271    M  1982-03-03\n",
       "3  Maria da Conceição Antunes  23000712291  39961145321    F  1973-03-05\n",
       "4          Valentina Williams  68948263392  39936634316    F  1956-03-09"
      ]
     },
     "execution_count": 3,
     "metadata": {},
     "output_type": "execute_result"
    }
   ],
   "source": [
    "df.head(5)"
   ]
  },
  {
   "cell_type": "code",
   "execution_count": 4,
   "id": "95561ebf",
   "metadata": {},
   "outputs": [],
   "source": [
    "# Converte string em formato DATETIME\n",
    "df['Nascimento'] = pd.to_datetime(df['Nascimento'])"
   ]
  },
  {
   "cell_type": "code",
   "execution_count": 5,
   "id": "d5504385",
   "metadata": {},
   "outputs": [],
   "source": [
    "# Calcula a idade em dias\n",
    "df['Idade_dias'] = (pd.to_datetime('today') - df['Nascimento']).dt.days"
   ]
  },
  {
   "cell_type": "code",
   "execution_count": 6,
   "id": "873084d8",
   "metadata": {},
   "outputs": [],
   "source": [
    "# Converte a idade em dias para idade em anos, em números inteiros ('int')\n",
    "df['Idade_anos'] = round(df['Idade_dias']/365,0).astype('int')"
   ]
  },
  {
   "cell_type": "code",
   "execution_count": 7,
   "id": "124d30db",
   "metadata": {},
   "outputs": [],
   "source": [
    "# Calcula a data em que completa 18 anos (18 anos = 6570 dias)\n",
    "df['Dezoito'] = df['Nascimento'] + pd.to_timedelta('6570 days')"
   ]
  },
  {
   "cell_type": "code",
   "execution_count": 8,
   "id": "56883f82",
   "metadata": {},
   "outputs": [
    {
     "data": {
      "text/html": [
       "<div>\n",
       "<style scoped>\n",
       "    .dataframe tbody tr th:only-of-type {\n",
       "        vertical-align: middle;\n",
       "    }\n",
       "\n",
       "    .dataframe tbody tr th {\n",
       "        vertical-align: top;\n",
       "    }\n",
       "\n",
       "    .dataframe thead th {\n",
       "        text-align: right;\n",
       "    }\n",
       "</style>\n",
       "<table border=\"1\" class=\"dataframe\">\n",
       "  <thead>\n",
       "    <tr style=\"text-align: right;\">\n",
       "      <th></th>\n",
       "      <th>Nome</th>\n",
       "      <th>RG</th>\n",
       "      <th>CPF</th>\n",
       "      <th>Sexo</th>\n",
       "      <th>Nascimento</th>\n",
       "      <th>Idade_dias</th>\n",
       "      <th>Idade_anos</th>\n",
       "      <th>Dezoito</th>\n",
       "    </tr>\n",
       "  </thead>\n",
       "  <tbody>\n",
       "    <tr>\n",
       "      <th>0</th>\n",
       "      <td>Clarice Gonzales</td>\n",
       "      <td>88829099450</td>\n",
       "      <td>49492282913</td>\n",
       "      <td>F</td>\n",
       "      <td>2008-02-25</td>\n",
       "      <td>5488</td>\n",
       "      <td>15</td>\n",
       "      <td>2026-02-20</td>\n",
       "    </tr>\n",
       "    <tr>\n",
       "      <th>1</th>\n",
       "      <td>Maria Isis Ramos</td>\n",
       "      <td>43437187759</td>\n",
       "      <td>83067956448</td>\n",
       "      <td>F</td>\n",
       "      <td>1999-02-27</td>\n",
       "      <td>8773</td>\n",
       "      <td>24</td>\n",
       "      <td>2017-02-22</td>\n",
       "    </tr>\n",
       "    <tr>\n",
       "      <th>2</th>\n",
       "      <td>Daniela Palma</td>\n",
       "      <td>58946054283</td>\n",
       "      <td>32723668271</td>\n",
       "      <td>M</td>\n",
       "      <td>1982-03-03</td>\n",
       "      <td>14978</td>\n",
       "      <td>41</td>\n",
       "      <td>2000-02-27</td>\n",
       "    </tr>\n",
       "    <tr>\n",
       "      <th>3</th>\n",
       "      <td>Maria da Conceição Antunes</td>\n",
       "      <td>23000712291</td>\n",
       "      <td>39961145321</td>\n",
       "      <td>F</td>\n",
       "      <td>1973-03-05</td>\n",
       "      <td>18263</td>\n",
       "      <td>50</td>\n",
       "      <td>1991-03-01</td>\n",
       "    </tr>\n",
       "    <tr>\n",
       "      <th>4</th>\n",
       "      <td>Valentina Williams</td>\n",
       "      <td>68948263392</td>\n",
       "      <td>39936634316</td>\n",
       "      <td>F</td>\n",
       "      <td>1956-03-09</td>\n",
       "      <td>24468</td>\n",
       "      <td>67</td>\n",
       "      <td>1974-03-05</td>\n",
       "    </tr>\n",
       "  </tbody>\n",
       "</table>\n",
       "</div>"
      ],
      "text/plain": [
       "                         Nome           RG          CPF Sexo Nascimento  \\\n",
       "0            Clarice Gonzales  88829099450  49492282913    F 2008-02-25   \n",
       "1            Maria Isis Ramos  43437187759  83067956448    F 1999-02-27   \n",
       "2               Daniela Palma  58946054283  32723668271    M 1982-03-03   \n",
       "3  Maria da Conceição Antunes  23000712291  39961145321    F 1973-03-05   \n",
       "4          Valentina Williams  68948263392  39936634316    F 1956-03-09   \n",
       "\n",
       "   Idade_dias  Idade_anos    Dezoito  \n",
       "0        5488          15 2026-02-20  \n",
       "1        8773          24 2017-02-22  \n",
       "2       14978          41 2000-02-27  \n",
       "3       18263          50 1991-03-01  \n",
       "4       24468          67 1974-03-05  "
      ]
     },
     "execution_count": 8,
     "metadata": {},
     "output_type": "execute_result"
    }
   ],
   "source": [
    "df.head(5)"
   ]
  },
  {
   "cell_type": "code",
   "execution_count": null,
   "id": "62f0f2f5",
   "metadata": {},
   "outputs": [],
   "source": []
  },
  {
   "cell_type": "code",
   "execution_count": null,
   "id": "ab8fee61",
   "metadata": {},
   "outputs": [],
   "source": []
  }
 ],
 "metadata": {
  "kernelspec": {
   "display_name": "Python 3 (ipykernel)",
   "language": "python",
   "name": "python3"
  },
  "language_info": {
   "codemirror_mode": {
    "name": "ipython",
    "version": 3
   },
   "file_extension": ".py",
   "mimetype": "text/x-python",
   "name": "python",
   "nbconvert_exporter": "python",
   "pygments_lexer": "ipython3",
   "version": "3.9.7"
  }
 },
 "nbformat": 4,
 "nbformat_minor": 5
}
