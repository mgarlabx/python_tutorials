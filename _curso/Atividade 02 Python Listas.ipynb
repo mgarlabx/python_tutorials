{
 "cells": [
  {
   "cell_type": "markdown",
   "id": "306befdc",
   "metadata": {},
   "source": [
    "# Curso: (Mini) Introdução ao Python para processamento e análise de dados \n",
    "Maurício Garcia, março 2023"
   ]
  },
  {
   "cell_type": "markdown",
   "id": "52ea5940",
   "metadata": {},
   "source": [
    "## Revisando listas\n",
    "List = Array = Vetor"
   ]
  },
  {
   "cell_type": "markdown",
   "id": "bc2b0e13",
   "metadata": {},
   "source": [
    "### Lista simples"
   ]
  },
  {
   "cell_type": "code",
   "execution_count": 1,
   "id": "f14ca055",
   "metadata": {},
   "outputs": [],
   "source": [
    "# criando uma lista\n",
    "x = ['Pedro', 'Maria', 'João', 'Fernando', 'Ana']"
   ]
  },
  {
   "cell_type": "code",
   "execution_count": 2,
   "id": "85d41c6d",
   "metadata": {},
   "outputs": [],
   "source": [
    "# uma forma mais legível de criar uma lista\n",
    "x = [\n",
    "    'Pedro',\n",
    "    'Maria',\n",
    "    'João',\n",
    "    'Fernando',\n",
    "    'Ana',\n",
    "]"
   ]
  },
  {
   "cell_type": "code",
   "execution_count": 3,
   "id": "a3a6a5c7",
   "metadata": {},
   "outputs": [
    {
     "data": {
      "text/plain": [
       "['Pedro', 'Maria', 'João', 'Fernando', 'Ana']"
      ]
     },
     "execution_count": 3,
     "metadata": {},
     "output_type": "execute_result"
    }
   ],
   "source": [
    "# Exibindo a lista\n",
    "x"
   ]
  },
  {
   "cell_type": "code",
   "execution_count": 4,
   "id": "6321ca78",
   "metadata": {},
   "outputs": [
    {
     "data": {
      "text/plain": [
       "'Maria'"
      ]
     },
     "execution_count": 4,
     "metadata": {},
     "output_type": "execute_result"
    }
   ],
   "source": [
    "# Exibindo apenas um elemento da lista\n",
    "y = x[1]\n",
    "y"
   ]
  },
  {
   "cell_type": "code",
   "execution_count": 5,
   "id": "5cc8f1eb",
   "metadata": {},
   "outputs": [
    {
     "name": "stdout",
     "output_type": "stream",
     "text": [
      "Pedro\n",
      "Maria\n",
      "João\n",
      "Fernando\n",
      "Ana\n"
     ]
    }
   ],
   "source": [
    "# Loops\n",
    "for y in x:\n",
    "    print(y)"
   ]
  },
  {
   "cell_type": "code",
   "execution_count": null,
   "id": "4c378c4d",
   "metadata": {},
   "outputs": [],
   "source": []
  },
  {
   "cell_type": "code",
   "execution_count": 6,
   "id": "96915d5a",
   "metadata": {},
   "outputs": [],
   "source": [
    "nomes = x"
   ]
  },
  {
   "cell_type": "code",
   "execution_count": 7,
   "id": "a31077a6",
   "metadata": {},
   "outputs": [
    {
     "name": "stdout",
     "output_type": "stream",
     "text": [
      "Pedro\n",
      "Maria\n",
      "João\n",
      "Fernando\n",
      "Ana\n"
     ]
    }
   ],
   "source": [
    "# Loops\n",
    "for nome in nomes:\n",
    "    print(nome)"
   ]
  },
  {
   "cell_type": "code",
   "execution_count": null,
   "id": "adc51615",
   "metadata": {},
   "outputs": [],
   "source": []
  },
  {
   "cell_type": "code",
   "execution_count": 8,
   "id": "aac1a834",
   "metadata": {},
   "outputs": [
    {
     "name": "stdout",
     "output_type": "stream",
     "text": [
      "0\n",
      "Pedro\n",
      "----------\n",
      "1\n",
      "Maria\n",
      "----------\n",
      "2\n",
      "João\n",
      "----------\n",
      "3\n",
      "Fernando\n",
      "----------\n",
      "4\n",
      "Ana\n",
      "----------\n"
     ]
    }
   ],
   "source": [
    "n = 0\n",
    "for nome in nomes:\n",
    "    print(n)\n",
    "    print(nome)\n",
    "    print('----------')\n",
    "    n = n + 1"
   ]
  },
  {
   "cell_type": "code",
   "execution_count": 9,
   "id": "095b43a4",
   "metadata": {},
   "outputs": [
    {
     "name": "stdout",
     "output_type": "stream",
     "text": [
      "0\n",
      "Pedro\n",
      "----------\n",
      "1\n",
      "Maria\n",
      "----------\n",
      "2\n",
      "João\n",
      "----------\n",
      "3\n",
      "Fernando\n",
      "----------\n",
      "4\n",
      "Ana\n",
      "----------\n",
      "Fim\n"
     ]
    }
   ],
   "source": [
    "n = 0\n",
    "for nome in nomes:\n",
    "    print(n)\n",
    "    print(nome)\n",
    "    print('----------')\n",
    "    n = n + 1\n",
    "print('Fim')"
   ]
  },
  {
   "cell_type": "code",
   "execution_count": null,
   "id": "3a6fc249",
   "metadata": {},
   "outputs": [],
   "source": []
  },
  {
   "cell_type": "markdown",
   "id": "fb5761e7",
   "metadata": {},
   "source": [
    "### Acrescentando e excluindo"
   ]
  },
  {
   "cell_type": "code",
   "execution_count": 10,
   "id": "7d965bb4",
   "metadata": {},
   "outputs": [],
   "source": [
    "nomes.append('Catarina')"
   ]
  },
  {
   "cell_type": "code",
   "execution_count": 11,
   "id": "04349682",
   "metadata": {},
   "outputs": [
    {
     "data": {
      "text/plain": [
       "['Pedro', 'Maria', 'João', 'Fernando', 'Ana', 'Catarina']"
      ]
     },
     "execution_count": 11,
     "metadata": {},
     "output_type": "execute_result"
    }
   ],
   "source": [
    "nomes"
   ]
  },
  {
   "cell_type": "code",
   "execution_count": 12,
   "id": "b261f6a2",
   "metadata": {},
   "outputs": [
    {
     "data": {
      "text/plain": [
       "'Catarina'"
      ]
     },
     "execution_count": 12,
     "metadata": {},
     "output_type": "execute_result"
    }
   ],
   "source": [
    "nomes.pop()"
   ]
  },
  {
   "cell_type": "code",
   "execution_count": 13,
   "id": "0e730acb",
   "metadata": {},
   "outputs": [
    {
     "data": {
      "text/plain": [
       "['Pedro', 'Maria', 'João', 'Fernando', 'Ana']"
      ]
     },
     "execution_count": 13,
     "metadata": {},
     "output_type": "execute_result"
    }
   ],
   "source": [
    "nomes"
   ]
  },
  {
   "cell_type": "code",
   "execution_count": 14,
   "id": "260afef4",
   "metadata": {},
   "outputs": [
    {
     "data": {
      "text/plain": [
       "'João'"
      ]
     },
     "execution_count": 14,
     "metadata": {},
     "output_type": "execute_result"
    }
   ],
   "source": [
    "nomes.pop(2)"
   ]
  },
  {
   "cell_type": "code",
   "execution_count": 15,
   "id": "cdf0d3e2",
   "metadata": {},
   "outputs": [
    {
     "data": {
      "text/plain": [
       "['Pedro', 'Maria', 'Fernando', 'Ana']"
      ]
     },
     "execution_count": 15,
     "metadata": {},
     "output_type": "execute_result"
    }
   ],
   "source": [
    "nomes"
   ]
  },
  {
   "cell_type": "markdown",
   "id": "45e832d2",
   "metadata": {},
   "source": [
    "### Ordenando"
   ]
  },
  {
   "cell_type": "code",
   "execution_count": 16,
   "id": "410c6706",
   "metadata": {},
   "outputs": [],
   "source": [
    "nomes.sort()"
   ]
  },
  {
   "cell_type": "code",
   "execution_count": 17,
   "id": "772412ea",
   "metadata": {},
   "outputs": [
    {
     "data": {
      "text/plain": [
       "['Ana', 'Fernando', 'Maria', 'Pedro']"
      ]
     },
     "execution_count": 17,
     "metadata": {},
     "output_type": "execute_result"
    }
   ],
   "source": [
    "nomes"
   ]
  },
  {
   "cell_type": "markdown",
   "id": "93b60643",
   "metadata": {},
   "source": [
    "### Lista dupla"
   ]
  },
  {
   "cell_type": "code",
   "execution_count": 18,
   "id": "b66953da",
   "metadata": {},
   "outputs": [],
   "source": [
    "# Criando lista com duas coluna\n",
    "# Notar que isso é uma \"lista\" de \"listas\"\n",
    "alunos = [\n",
    "    ['Pedro', 'M'],\n",
    "    ['Maria', 'F'],\n",
    "    ['João', 'M'],\n",
    "    ['Fernando', 'M'],\n",
    "    ['Ana', 'F'],\n",
    "]"
   ]
  },
  {
   "cell_type": "code",
   "execution_count": 19,
   "id": "0b43bd73",
   "metadata": {},
   "outputs": [
    {
     "data": {
      "text/plain": [
       "[['Pedro', 'M'],\n",
       " ['Maria', 'F'],\n",
       " ['João', 'M'],\n",
       " ['Fernando', 'M'],\n",
       " ['Ana', 'F']]"
      ]
     },
     "execution_count": 19,
     "metadata": {},
     "output_type": "execute_result"
    }
   ],
   "source": [
    "# Exibindo a lista\n",
    "alunos"
   ]
  },
  {
   "cell_type": "code",
   "execution_count": 20,
   "id": "0819e069",
   "metadata": {},
   "outputs": [
    {
     "data": {
      "text/plain": [
       "['Maria', 'F']"
      ]
     },
     "execution_count": 20,
     "metadata": {},
     "output_type": "execute_result"
    }
   ],
   "source": [
    "# Exibindo apenas um elemento da lista\n",
    "alunos[1]"
   ]
  },
  {
   "cell_type": "code",
   "execution_count": 21,
   "id": "93d73901",
   "metadata": {},
   "outputs": [
    {
     "data": {
      "text/plain": [
       "'Maria'"
      ]
     },
     "execution_count": 21,
     "metadata": {},
     "output_type": "execute_result"
    }
   ],
   "source": [
    "# Exibindo apenas uma coluna de um elemento da lista\n",
    "alunos[1][0]"
   ]
  },
  {
   "cell_type": "code",
   "execution_count": 22,
   "id": "3a777846",
   "metadata": {},
   "outputs": [
    {
     "name": "stdout",
     "output_type": "stream",
     "text": [
      "['Pedro', 'M']\n",
      "['Maria', 'F']\n",
      "['João', 'M']\n",
      "['Fernando', 'M']\n",
      "['Ana', 'F']\n"
     ]
    }
   ],
   "source": [
    "# Loops\n",
    "for aluno in alunos:\n",
    "    print(aluno)"
   ]
  },
  {
   "cell_type": "code",
   "execution_count": 23,
   "id": "2928ea2c",
   "metadata": {},
   "outputs": [
    {
     "name": "stdout",
     "output_type": "stream",
     "text": [
      "O nome Pedro é M\n",
      ".....................\n",
      "O nome Maria é F\n",
      ".....................\n",
      "O nome João é M\n",
      ".....................\n",
      "O nome Fernando é M\n",
      ".....................\n",
      "O nome Ana é F\n",
      ".....................\n"
     ]
    }
   ],
   "source": [
    "# Loops\n",
    "for aluno in alunos:\n",
    "    nome = aluno[0]\n",
    "    sexo = aluno[1]\n",
    "    tx = 'O nome {} é {}'\n",
    "    print(tx.format(nome, sexo))\n",
    "    print('.....................')"
   ]
  },
  {
   "cell_type": "code",
   "execution_count": null,
   "id": "b57d773a",
   "metadata": {},
   "outputs": [],
   "source": []
  }
 ],
 "metadata": {
  "kernelspec": {
   "display_name": "Python 3 (ipykernel)",
   "language": "python",
   "name": "python3"
  },
  "language_info": {
   "codemirror_mode": {
    "name": "ipython",
    "version": 3
   },
   "file_extension": ".py",
   "mimetype": "text/x-python",
   "name": "python",
   "nbconvert_exporter": "python",
   "pygments_lexer": "ipython3",
   "version": "3.9.7"
  }
 },
 "nbformat": 4,
 "nbformat_minor": 5
}
