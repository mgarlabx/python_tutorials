{
 "cells": [
  {
   "cell_type": "markdown",
   "id": "faa82a49",
   "metadata": {},
   "source": [
    "# Curso: (Mini) Introdução ao Python para processamento e análise de dados \n",
    "Maurício Garcia, março 2023"
   ]
  },
  {
   "cell_type": "markdown",
   "id": "21624689",
   "metadata": {},
   "source": [
    "## Revisando Pandas"
   ]
  },
  {
   "cell_type": "code",
   "execution_count": 1,
   "id": "02fb654c",
   "metadata": {},
   "outputs": [],
   "source": [
    "import pandas as pd\n"
   ]
  },
  {
   "cell_type": "markdown",
   "id": "3bfb531f",
   "metadata": {},
   "source": [
    "## Acessando Google Sheet"
   ]
  },
  {
   "cell_type": "markdown",
   "id": "2dd20ef8",
   "metadata": {},
   "source": [
    "Obter o sharable link:  \n",
    "https://docs.google.com/spreadsheets/d/1bRTW8_ZQzyqLaNSR5cP_mw9Yb_yEAS1t/edit?usp=share_link&ouid=116157839543199465705&rtpof=true&sd=true  \n",
    "\n",
    "Colar no navegador e ele irá gerar esse link:  \n",
    "https://docs.google.com/spreadsheets/d/1bRTW8_ZQzyqLaNSR5cP_mw9Yb_yEAS1t/edit#gid=1357010444  \n",
    "\n",
    "Usar esse link no comando abaixo:"
   ]
  },
  {
   "cell_type": "code",
   "execution_count": 2,
   "id": "43f2d1e7",
   "metadata": {},
   "outputs": [],
   "source": [
    "url = 'https://docs.google.com/spreadsheets/d/1bRTW8_ZQzyqLaNSR5cP_mw9Yb_yEAS1t/edit#gid=1357010444'"
   ]
  },
  {
   "cell_type": "code",
   "execution_count": 3,
   "id": "988e0a46",
   "metadata": {},
   "outputs": [],
   "source": [
    "url = url.replace('/edit#gid=', '/export?format=csv&gid=')"
   ]
  },
  {
   "cell_type": "code",
   "execution_count": 4,
   "id": "21ab9e81",
   "metadata": {},
   "outputs": [],
   "source": [
    "df = pd.read_csv(url)"
   ]
  },
  {
   "cell_type": "code",
   "execution_count": 5,
   "id": "dbc182f3",
   "metadata": {},
   "outputs": [
    {
     "data": {
      "text/html": [
       "<div>\n",
       "<style scoped>\n",
       "    .dataframe tbody tr th:only-of-type {\n",
       "        vertical-align: middle;\n",
       "    }\n",
       "\n",
       "    .dataframe tbody tr th {\n",
       "        vertical-align: top;\n",
       "    }\n",
       "\n",
       "    .dataframe thead th {\n",
       "        text-align: right;\n",
       "    }\n",
       "</style>\n",
       "<table border=\"1\" class=\"dataframe\">\n",
       "  <thead>\n",
       "    <tr style=\"text-align: right;\">\n",
       "      <th></th>\n",
       "      <th>Nome</th>\n",
       "      <th>RG</th>\n",
       "      <th>CPF</th>\n",
       "      <th>Sexo</th>\n",
       "      <th>Nascimento</th>\n",
       "    </tr>\n",
       "  </thead>\n",
       "  <tbody>\n",
       "    <tr>\n",
       "      <th>0</th>\n",
       "      <td>Clarice Gonzales</td>\n",
       "      <td>88829099450</td>\n",
       "      <td>49492282913</td>\n",
       "      <td>F</td>\n",
       "      <td>2008-02-25</td>\n",
       "    </tr>\n",
       "    <tr>\n",
       "      <th>1</th>\n",
       "      <td>Maria Isis Ramos</td>\n",
       "      <td>43437187759</td>\n",
       "      <td>83067956448</td>\n",
       "      <td>F</td>\n",
       "      <td>1999-02-27</td>\n",
       "    </tr>\n",
       "    <tr>\n",
       "      <th>2</th>\n",
       "      <td>Daniela Palma</td>\n",
       "      <td>58946054283</td>\n",
       "      <td>32723668271</td>\n",
       "      <td>M</td>\n",
       "      <td>1982-03-03</td>\n",
       "    </tr>\n",
       "    <tr>\n",
       "      <th>3</th>\n",
       "      <td>Maria da Conceição Antunes</td>\n",
       "      <td>23000712291</td>\n",
       "      <td>39961145321</td>\n",
       "      <td>F</td>\n",
       "      <td>1973-03-05</td>\n",
       "    </tr>\n",
       "    <tr>\n",
       "      <th>4</th>\n",
       "      <td>Valentina Williams</td>\n",
       "      <td>68948263392</td>\n",
       "      <td>39936634316</td>\n",
       "      <td>F</td>\n",
       "      <td>1956-03-09</td>\n",
       "    </tr>\n",
       "  </tbody>\n",
       "</table>\n",
       "</div>"
      ],
      "text/plain": [
       "                         Nome           RG          CPF Sexo  Nascimento\n",
       "0            Clarice Gonzales  88829099450  49492282913    F  2008-02-25\n",
       "1            Maria Isis Ramos  43437187759  83067956448    F  1999-02-27\n",
       "2               Daniela Palma  58946054283  32723668271    M  1982-03-03\n",
       "3  Maria da Conceição Antunes  23000712291  39961145321    F  1973-03-05\n",
       "4          Valentina Williams  68948263392  39936634316    F  1956-03-09"
      ]
     },
     "execution_count": 5,
     "metadata": {},
     "output_type": "execute_result"
    }
   ],
   "source": [
    "df.head()"
   ]
  },
  {
   "cell_type": "markdown",
   "id": "3ff33c54",
   "metadata": {},
   "source": [
    "### Criando novas colunas"
   ]
  },
  {
   "cell_type": "code",
   "execution_count": 6,
   "id": "d1a659d1",
   "metadata": {},
   "outputs": [],
   "source": [
    "df['Nascimento2'] = pd.to_datetime(df['Nascimento'])"
   ]
  },
  {
   "cell_type": "code",
   "execution_count": 7,
   "id": "79b58bcb",
   "metadata": {},
   "outputs": [],
   "source": [
    "df['Idade'] = (pd.to_datetime('today') - df['Nascimento2']).dt.days"
   ]
  },
  {
   "cell_type": "code",
   "execution_count": 8,
   "id": "c8b3cd04",
   "metadata": {},
   "outputs": [],
   "source": [
    "masculino = (df['Sexo'] == 'M')\n",
    "df['Target'] = 0\n",
    "df.loc[masculino, 'Target'] = 1"
   ]
  },
  {
   "cell_type": "code",
   "execution_count": 9,
   "id": "25639fa9",
   "metadata": {},
   "outputs": [
    {
     "data": {
      "text/html": [
       "<div>\n",
       "<style scoped>\n",
       "    .dataframe tbody tr th:only-of-type {\n",
       "        vertical-align: middle;\n",
       "    }\n",
       "\n",
       "    .dataframe tbody tr th {\n",
       "        vertical-align: top;\n",
       "    }\n",
       "\n",
       "    .dataframe thead th {\n",
       "        text-align: right;\n",
       "    }\n",
       "</style>\n",
       "<table border=\"1\" class=\"dataframe\">\n",
       "  <thead>\n",
       "    <tr style=\"text-align: right;\">\n",
       "      <th></th>\n",
       "      <th>Nome</th>\n",
       "      <th>RG</th>\n",
       "      <th>CPF</th>\n",
       "      <th>Sexo</th>\n",
       "      <th>Nascimento</th>\n",
       "      <th>Nascimento2</th>\n",
       "      <th>Idade</th>\n",
       "      <th>Target</th>\n",
       "    </tr>\n",
       "  </thead>\n",
       "  <tbody>\n",
       "    <tr>\n",
       "      <th>0</th>\n",
       "      <td>Clarice Gonzales</td>\n",
       "      <td>88829099450</td>\n",
       "      <td>49492282913</td>\n",
       "      <td>F</td>\n",
       "      <td>2008-02-25</td>\n",
       "      <td>2008-02-25</td>\n",
       "      <td>5492</td>\n",
       "      <td>0</td>\n",
       "    </tr>\n",
       "    <tr>\n",
       "      <th>1</th>\n",
       "      <td>Maria Isis Ramos</td>\n",
       "      <td>43437187759</td>\n",
       "      <td>83067956448</td>\n",
       "      <td>F</td>\n",
       "      <td>1999-02-27</td>\n",
       "      <td>1999-02-27</td>\n",
       "      <td>8777</td>\n",
       "      <td>0</td>\n",
       "    </tr>\n",
       "    <tr>\n",
       "      <th>2</th>\n",
       "      <td>Daniela Palma</td>\n",
       "      <td>58946054283</td>\n",
       "      <td>32723668271</td>\n",
       "      <td>M</td>\n",
       "      <td>1982-03-03</td>\n",
       "      <td>1982-03-03</td>\n",
       "      <td>14982</td>\n",
       "      <td>1</td>\n",
       "    </tr>\n",
       "    <tr>\n",
       "      <th>3</th>\n",
       "      <td>Maria da Conceição Antunes</td>\n",
       "      <td>23000712291</td>\n",
       "      <td>39961145321</td>\n",
       "      <td>F</td>\n",
       "      <td>1973-03-05</td>\n",
       "      <td>1973-03-05</td>\n",
       "      <td>18267</td>\n",
       "      <td>0</td>\n",
       "    </tr>\n",
       "    <tr>\n",
       "      <th>4</th>\n",
       "      <td>Valentina Williams</td>\n",
       "      <td>68948263392</td>\n",
       "      <td>39936634316</td>\n",
       "      <td>F</td>\n",
       "      <td>1956-03-09</td>\n",
       "      <td>1956-03-09</td>\n",
       "      <td>24472</td>\n",
       "      <td>0</td>\n",
       "    </tr>\n",
       "  </tbody>\n",
       "</table>\n",
       "</div>"
      ],
      "text/plain": [
       "                         Nome           RG          CPF Sexo  Nascimento  \\\n",
       "0            Clarice Gonzales  88829099450  49492282913    F  2008-02-25   \n",
       "1            Maria Isis Ramos  43437187759  83067956448    F  1999-02-27   \n",
       "2               Daniela Palma  58946054283  32723668271    M  1982-03-03   \n",
       "3  Maria da Conceição Antunes  23000712291  39961145321    F  1973-03-05   \n",
       "4          Valentina Williams  68948263392  39936634316    F  1956-03-09   \n",
       "\n",
       "  Nascimento2  Idade  Target  \n",
       "0  2008-02-25   5492       0  \n",
       "1  1999-02-27   8777       0  \n",
       "2  1982-03-03  14982       1  \n",
       "3  1973-03-05  18267       0  \n",
       "4  1956-03-09  24472       0  "
      ]
     },
     "execution_count": 9,
     "metadata": {},
     "output_type": "execute_result"
    }
   ],
   "source": [
    "df.head()"
   ]
  },
  {
   "cell_type": "code",
   "execution_count": null,
   "id": "c80e307e",
   "metadata": {},
   "outputs": [],
   "source": []
  },
  {
   "cell_type": "markdown",
   "id": "0e33d9ae",
   "metadata": {},
   "source": [
    "## Um pouco sobre gráficos ..."
   ]
  },
  {
   "cell_type": "code",
   "execution_count": 10,
   "id": "eb17aa33",
   "metadata": {
    "scrolled": true
   },
   "outputs": [
    {
     "data": {
      "text/plain": [
       "<AxesSubplot:xlabel='Sexo'>"
      ]
     },
     "execution_count": 10,
     "metadata": {},
     "output_type": "execute_result"
    },
    {
     "data": {
      "image/png": "[encoded data removed]",
      "text/plain": [
       "<Figure size 432x288 with 1 Axes>"
      ]
     },
     "metadata": {
      "needs_background": "light"
     },
     "output_type": "display_data"
    }
   ],
   "source": [
    "pd.crosstab(df['Sexo'],df['Target']).plot(kind='bar')"
   ]
  },
  {
   "cell_type": "code",
   "execution_count": 11,
   "id": "178673b3",
   "metadata": {},
   "outputs": [
    {
     "data": {
      "text/plain": [
       "<AxesSubplot:ylabel='Frequency'>"
      ]
     },
     "execution_count": 11,
     "metadata": {},
     "output_type": "execute_result"
    },
    {
     "data": {
      "image/png": "[encoded data removed]",
      "text/plain": [
       "<Figure size 432x288 with 1 Axes>"
      ]
     },
     "metadata": {
      "needs_background": "light"
     },
     "output_type": "display_data"
    }
   ],
   "source": [
    "df['Idade'].plot.hist(bins=10, alpha=0.8)"
   ]
  },
  {
   "cell_type": "code",
   "execution_count": 12,
   "id": "3b1d2dc3",
   "metadata": {},
   "outputs": [
    {
     "data": {
      "text/plain": [
       "array([[<AxesSubplot:title={'center':'RG'}>,\n",
       "        <AxesSubplot:title={'center':'CPF'}>],\n",
       "       [<AxesSubplot:title={'center':'Nascimento2'}>,\n",
       "        <AxesSubplot:title={'center':'Idade'}>],\n",
       "       [<AxesSubplot:title={'center':'Target'}>, <AxesSubplot:>]],\n",
       "      dtype=object)"
      ]
     },
     "execution_count": 12,
     "metadata": {},
     "output_type": "execute_result"
    },
    {
     "data": {
      "image/png": "[encoded data removed]",
      "text/plain": [
       "<Figure size 1080x1080 with 6 Axes>"
      ]
     },
     "metadata": {
      "needs_background": "light"
     },
     "output_type": "display_data"
    }
   ],
   "source": [
    "df.hist(bins=10, figsize=(15, 15))"
   ]
  },
  {
   "cell_type": "code",
   "execution_count": 13,
   "id": "fe6efe1c",
   "metadata": {},
   "outputs": [],
   "source": [
    "# Ver mais em https://github.com/mgarlabx/mathplotlib"
   ]
  },
  {
   "cell_type": "code",
   "execution_count": null,
   "id": "47a9aaa8",
   "metadata": {},
   "outputs": [],
   "source": []
  }
 ],
 "metadata": {
  "kernelspec": {
   "display_name": "Python 3 (ipykernel)",
   "language": "python",
   "name": "python3"
  },
  "language_info": {
   "codemirror_mode": {
    "name": "ipython",
    "version": 3
   },
   "file_extension": ".py",
   "mimetype": "text/x-python",
   "name": "python",
   "nbconvert_exporter": "python",
   "pygments_lexer": "ipython3",
   "version": "3.9.7"
  },
  "vscode": {
   "interpreter": {
    "hash": "0adcc2737ebf6a4a119f135174df96668767fca1ef1112612db5ecadf2b6d608"
   }
  }
 },
 "nbformat": 4,
 "nbformat_minor": 5
}
