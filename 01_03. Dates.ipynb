{
 "cells": [
  {
   "cell_type": "markdown",
   "metadata": {
    "button": false,
    "new_sheet": false,
    "run_control": {
     "read_only": false
    }
   },
   "source": [
    "# Python Tutorials\n",
    "\n",
    "### Dates\n",
    "\n",
    "Solvertank Digital Science   \n",
    "[http://www.solvertank.com](http://www.solvertank.com)   \n",
    "<img src=\"cube.gif\" align=\"left\" width=\"50\" />"
   ]
  },
  {
   "cell_type": "code",
   "execution_count": 1,
   "metadata": {
    "button": false,
    "new_sheet": false,
    "run_control": {
     "read_only": false
    }
   },
   "outputs": [],
   "source": [
    "# import\n",
    "import pandas as pd\n",
    "\n",
    "# Pandas tem todas as funções para operar com datas, não precisa de:\n",
    "#   import datetime\n",
    "#   from datetime import date"
   ]
  },
  {
   "cell_type": "code",
   "execution_count": 2,
   "metadata": {
    "button": false,
    "new_sheet": false,
    "run_control": {
     "read_only": false
    }
   },
   "outputs": [],
   "source": [
    "# Dataframe para testes\n",
    "df = pd.DataFrame({\n",
    "    'date': [\n",
    "        '01/01/2021',\n",
    "        '01/12/2008',\n",
    "        '23/06/1989',\n",
    "        '25/08/1999',\n",
    "        '20/02/1993',\n",
    "    ],\n",
    "    'date2': [\n",
    "        '01/01/2018',\n",
    "        '01/03/2018',\n",
    "        '03/12/1988',\n",
    "        '15/07/2032',\n",
    "        '15/03/2045',\n",
    "    ]\n",
    "})"
   ]
  },
  {
   "cell_type": "code",
   "execution_count": 3,
   "metadata": {
    "button": false,
    "new_sheet": false,
    "run_control": {
     "read_only": false
    },
    "scrolled": true
   },
   "outputs": [
    {
     "data": {
      "text/html": [
       "<div>\n",
       "<style scoped>\n",
       "    .dataframe tbody tr th:only-of-type {\n",
       "        vertical-align: middle;\n",
       "    }\n",
       "\n",
       "    .dataframe tbody tr th {\n",
       "        vertical-align: top;\n",
       "    }\n",
       "\n",
       "    .dataframe thead th {\n",
       "        text-align: right;\n",
       "    }\n",
       "</style>\n",
       "<table border=\"1\" class=\"dataframe\">\n",
       "  <thead>\n",
       "    <tr style=\"text-align: right;\">\n",
       "      <th></th>\n",
       "      <th>date</th>\n",
       "      <th>date2</th>\n",
       "    </tr>\n",
       "  </thead>\n",
       "  <tbody>\n",
       "    <tr>\n",
       "      <th>0</th>\n",
       "      <td>01/01/2021</td>\n",
       "      <td>01/01/2018</td>\n",
       "    </tr>\n",
       "    <tr>\n",
       "      <th>1</th>\n",
       "      <td>01/12/2008</td>\n",
       "      <td>01/03/2018</td>\n",
       "    </tr>\n",
       "    <tr>\n",
       "      <th>2</th>\n",
       "      <td>23/06/1989</td>\n",
       "      <td>03/12/1988</td>\n",
       "    </tr>\n",
       "    <tr>\n",
       "      <th>3</th>\n",
       "      <td>25/08/1999</td>\n",
       "      <td>15/07/2032</td>\n",
       "    </tr>\n",
       "    <tr>\n",
       "      <th>4</th>\n",
       "      <td>20/02/1993</td>\n",
       "      <td>15/03/2045</td>\n",
       "    </tr>\n",
       "  </tbody>\n",
       "</table>\n",
       "</div>"
      ],
      "text/plain": [
       "         date       date2\n",
       "0  01/01/2021  01/01/2018\n",
       "1  01/12/2008  01/03/2018\n",
       "2  23/06/1989  03/12/1988\n",
       "3  25/08/1999  15/07/2032\n",
       "4  20/02/1993  15/03/2045"
      ]
     },
     "execution_count": 3,
     "metadata": {},
     "output_type": "execute_result"
    }
   ],
   "source": [
    "df"
   ]
  },
  {
   "cell_type": "markdown",
   "metadata": {},
   "source": [
    "## Conversões \"string\" <> \"date\""
   ]
  },
  {
   "cell_type": "code",
   "execution_count": 4,
   "metadata": {
    "button": false,
    "new_sheet": false,
    "run_control": {
     "read_only": false
    }
   },
   "outputs": [],
   "source": [
    "# Convert \"string\" para \"date\"\n",
    "df['date'] = pd.to_datetime(df.date, format='%d/%m/%Y')\n",
    "df['date2'] = pd.to_datetime(df.date2, format='%d/%m/%Y')"
   ]
  },
  {
   "cell_type": "code",
   "execution_count": 5,
   "metadata": {},
   "outputs": [
    {
     "data": {
      "text/html": [
       "<div>\n",
       "<style scoped>\n",
       "    .dataframe tbody tr th:only-of-type {\n",
       "        vertical-align: middle;\n",
       "    }\n",
       "\n",
       "    .dataframe tbody tr th {\n",
       "        vertical-align: top;\n",
       "    }\n",
       "\n",
       "    .dataframe thead th {\n",
       "        text-align: right;\n",
       "    }\n",
       "</style>\n",
       "<table border=\"1\" class=\"dataframe\">\n",
       "  <thead>\n",
       "    <tr style=\"text-align: right;\">\n",
       "      <th></th>\n",
       "      <th>date</th>\n",
       "      <th>date2</th>\n",
       "    </tr>\n",
       "  </thead>\n",
       "  <tbody>\n",
       "    <tr>\n",
       "      <th>0</th>\n",
       "      <td>2021-01-01</td>\n",
       "      <td>2018-01-01</td>\n",
       "    </tr>\n",
       "    <tr>\n",
       "      <th>1</th>\n",
       "      <td>2008-12-01</td>\n",
       "      <td>2018-03-01</td>\n",
       "    </tr>\n",
       "    <tr>\n",
       "      <th>2</th>\n",
       "      <td>1989-06-23</td>\n",
       "      <td>1988-12-03</td>\n",
       "    </tr>\n",
       "    <tr>\n",
       "      <th>3</th>\n",
       "      <td>1999-08-25</td>\n",
       "      <td>2032-07-15</td>\n",
       "    </tr>\n",
       "    <tr>\n",
       "      <th>4</th>\n",
       "      <td>1993-02-20</td>\n",
       "      <td>2045-03-15</td>\n",
       "    </tr>\n",
       "  </tbody>\n",
       "</table>\n",
       "</div>"
      ],
      "text/plain": [
       "        date      date2\n",
       "0 2021-01-01 2018-01-01\n",
       "1 2008-12-01 2018-03-01\n",
       "2 1989-06-23 1988-12-03\n",
       "3 1999-08-25 2032-07-15\n",
       "4 1993-02-20 2045-03-15"
      ]
     },
     "execution_count": 5,
     "metadata": {},
     "output_type": "execute_result"
    }
   ],
   "source": [
    "df"
   ]
  },
  {
   "cell_type": "code",
   "execution_count": 6,
   "metadata": {},
   "outputs": [
    {
     "data": {
      "text/plain": [
       "0    01/01/2021\n",
       "1    01/12/2008\n",
       "2    23/06/1989\n",
       "3    25/08/1999\n",
       "4    20/02/1993\n",
       "Name: date, dtype: object"
      ]
     },
     "execution_count": 6,
     "metadata": {},
     "output_type": "execute_result"
    }
   ],
   "source": [
    "# Convert \"date\" para \"string\"\n",
    "df['date'].dt.strftime('%d/%m/%Y')"
   ]
  },
  {
   "cell_type": "markdown",
   "metadata": {},
   "source": [
    "## Partes das datas"
   ]
  },
  {
   "cell_type": "code",
   "execution_count": 7,
   "metadata": {
    "button": false,
    "new_sheet": false,
    "run_control": {
     "read_only": false
    }
   },
   "outputs": [
    {
     "data": {
      "text/plain": [
       "0    2021\n",
       "1    2008\n",
       "2    1989\n",
       "3    1999\n",
       "4    1993\n",
       "Name: date, dtype: int64"
      ]
     },
     "execution_count": 7,
     "metadata": {},
     "output_type": "execute_result"
    }
   ],
   "source": [
    "# Ano\n",
    "df['date'].dt.year"
   ]
  },
  {
   "cell_type": "code",
   "execution_count": 8,
   "metadata": {},
   "outputs": [
    {
     "data": {
      "text/plain": [
       "0     1\n",
       "1    12\n",
       "2     6\n",
       "3     8\n",
       "4     2\n",
       "Name: date, dtype: int64"
      ]
     },
     "execution_count": 8,
     "metadata": {},
     "output_type": "execute_result"
    }
   ],
   "source": [
    "# Mês\n",
    "df['date'].dt.month"
   ]
  },
  {
   "cell_type": "code",
   "execution_count": 9,
   "metadata": {},
   "outputs": [
    {
     "data": {
      "text/plain": [
       "0     1\n",
       "1     1\n",
       "2    23\n",
       "3    25\n",
       "4    20\n",
       "Name: date, dtype: int64"
      ]
     },
     "execution_count": 9,
     "metadata": {},
     "output_type": "execute_result"
    }
   ],
   "source": [
    "# Dia\n",
    "df['date'].dt.day"
   ]
  },
  {
   "cell_type": "code",
   "execution_count": 10,
   "metadata": {},
   "outputs": [
    {
     "data": {
      "text/plain": [
       "0    4\n",
       "1    0\n",
       "2    4\n",
       "3    2\n",
       "4    5\n",
       "Name: date, dtype: int64"
      ]
     },
     "execution_count": 10,
     "metadata": {},
     "output_type": "execute_result"
    }
   ],
   "source": [
    "# Dia da semana // Monday = 0 ... Sunday = 6\n",
    "df['date'].dt.weekday"
   ]
  },
  {
   "cell_type": "code",
   "execution_count": 11,
   "metadata": {},
   "outputs": [
    {
     "data": {
      "text/plain": [
       "0       Friday\n",
       "1       Monday\n",
       "2       Friday\n",
       "3    Wednesday\n",
       "4     Saturday\n",
       "Name: date, dtype: object"
      ]
     },
     "execution_count": 11,
     "metadata": {},
     "output_type": "execute_result"
    }
   ],
   "source": [
    "# Nome do dia da semana\n",
    "df['date'].dt.day_name()"
   ]
  },
  {
   "cell_type": "markdown",
   "metadata": {},
   "source": [
    "## Operações com duas datas"
   ]
  },
  {
   "cell_type": "code",
   "execution_count": 12,
   "metadata": {},
   "outputs": [],
   "source": [
    "# Diferença entre datas\n",
    "df['delta'] = df['date'] - df['date2']"
   ]
  },
  {
   "cell_type": "code",
   "execution_count": 13,
   "metadata": {},
   "outputs": [],
   "source": [
    "# Diferença em dias\n",
    "df['delta_days'] = df['delta'].dt.days"
   ]
  },
  {
   "cell_type": "code",
   "execution_count": 14,
   "metadata": {},
   "outputs": [],
   "source": [
    "# Diferença em segundos\n",
    "df['delta_seconds'] = df['delta'].dt.total_seconds()"
   ]
  },
  {
   "cell_type": "code",
   "execution_count": 15,
   "metadata": {},
   "outputs": [],
   "source": [
    "# Soma de dias à data\n",
    "df['plus'] = df['date'] + pd.to_timedelta('1 day')"
   ]
  },
  {
   "cell_type": "code",
   "execution_count": 16,
   "metadata": {},
   "outputs": [],
   "source": [
    "# Subtração de dias à data\n",
    "df['minus'] = df['date'] - pd.to_timedelta('730 days')"
   ]
  },
  {
   "cell_type": "code",
   "execution_count": 17,
   "metadata": {},
   "outputs": [],
   "source": [
    "# Dias até hoje\n",
    "df['days_to_today'] = (pd.to_datetime('today') - df['date']).dt.days"
   ]
  },
  {
   "cell_type": "code",
   "execution_count": 18,
   "metadata": {},
   "outputs": [],
   "source": [
    "# Dias até data específica\n",
    "df['days_to_date'] = (pd.to_datetime('15/02/2046', format='%d/%m/%Y') - df['date']).dt.days"
   ]
  },
  {
   "cell_type": "code",
   "execution_count": null,
   "metadata": {},
   "outputs": [],
   "source": []
  },
  {
   "cell_type": "code",
   "execution_count": 19,
   "metadata": {},
   "outputs": [
    {
     "data": {
      "text/html": [
       "<div>\n",
       "<style scoped>\n",
       "    .dataframe tbody tr th:only-of-type {\n",
       "        vertical-align: middle;\n",
       "    }\n",
       "\n",
       "    .dataframe tbody tr th {\n",
       "        vertical-align: top;\n",
       "    }\n",
       "\n",
       "    .dataframe thead th {\n",
       "        text-align: right;\n",
       "    }\n",
       "</style>\n",
       "<table border=\"1\" class=\"dataframe\">\n",
       "  <thead>\n",
       "    <tr style=\"text-align: right;\">\n",
       "      <th></th>\n",
       "      <th>date</th>\n",
       "      <th>date2</th>\n",
       "      <th>delta</th>\n",
       "      <th>delta_days</th>\n",
       "      <th>delta_seconds</th>\n",
       "      <th>plus</th>\n",
       "      <th>minus</th>\n",
       "      <th>days_to_today</th>\n",
       "      <th>days_to_date</th>\n",
       "    </tr>\n",
       "  </thead>\n",
       "  <tbody>\n",
       "    <tr>\n",
       "      <th>0</th>\n",
       "      <td>2021-01-01</td>\n",
       "      <td>2018-01-01</td>\n",
       "      <td>1096 days</td>\n",
       "      <td>1096</td>\n",
       "      <td>9.469440e+07</td>\n",
       "      <td>2021-01-02</td>\n",
       "      <td>2019-01-02</td>\n",
       "      <td>783</td>\n",
       "      <td>9176</td>\n",
       "    </tr>\n",
       "    <tr>\n",
       "      <th>1</th>\n",
       "      <td>2008-12-01</td>\n",
       "      <td>2018-03-01</td>\n",
       "      <td>-3377 days</td>\n",
       "      <td>-3377</td>\n",
       "      <td>-2.917728e+08</td>\n",
       "      <td>2008-12-02</td>\n",
       "      <td>2006-12-02</td>\n",
       "      <td>5197</td>\n",
       "      <td>13590</td>\n",
       "    </tr>\n",
       "    <tr>\n",
       "      <th>2</th>\n",
       "      <td>1989-06-23</td>\n",
       "      <td>1988-12-03</td>\n",
       "      <td>202 days</td>\n",
       "      <td>202</td>\n",
       "      <td>1.745280e+07</td>\n",
       "      <td>1989-06-24</td>\n",
       "      <td>1987-06-24</td>\n",
       "      <td>12298</td>\n",
       "      <td>20691</td>\n",
       "    </tr>\n",
       "    <tr>\n",
       "      <th>3</th>\n",
       "      <td>1999-08-25</td>\n",
       "      <td>2032-07-15</td>\n",
       "      <td>-12013 days</td>\n",
       "      <td>-12013</td>\n",
       "      <td>-1.037923e+09</td>\n",
       "      <td>1999-08-26</td>\n",
       "      <td>1997-08-25</td>\n",
       "      <td>8583</td>\n",
       "      <td>16976</td>\n",
       "    </tr>\n",
       "    <tr>\n",
       "      <th>4</th>\n",
       "      <td>1993-02-20</td>\n",
       "      <td>2045-03-15</td>\n",
       "      <td>-19016 days</td>\n",
       "      <td>-19016</td>\n",
       "      <td>-1.642982e+09</td>\n",
       "      <td>1993-02-21</td>\n",
       "      <td>1991-02-21</td>\n",
       "      <td>10960</td>\n",
       "      <td>19353</td>\n",
       "    </tr>\n",
       "  </tbody>\n",
       "</table>\n",
       "</div>"
      ],
      "text/plain": [
       "        date      date2       delta  delta_days  delta_seconds       plus  \\\n",
       "0 2021-01-01 2018-01-01   1096 days        1096   9.469440e+07 2021-01-02   \n",
       "1 2008-12-01 2018-03-01  -3377 days       -3377  -2.917728e+08 2008-12-02   \n",
       "2 1989-06-23 1988-12-03    202 days         202   1.745280e+07 1989-06-24   \n",
       "3 1999-08-25 2032-07-15 -12013 days      -12013  -1.037923e+09 1999-08-26   \n",
       "4 1993-02-20 2045-03-15 -19016 days      -19016  -1.642982e+09 1993-02-21   \n",
       "\n",
       "       minus  days_to_today  days_to_date  \n",
       "0 2019-01-02            783          9176  \n",
       "1 2006-12-02           5197         13590  \n",
       "2 1987-06-24          12298         20691  \n",
       "3 1997-08-25           8583         16976  \n",
       "4 1991-02-21          10960         19353  "
      ]
     },
     "execution_count": 19,
     "metadata": {},
     "output_type": "execute_result"
    }
   ],
   "source": [
    "df"
   ]
  },
  {
   "cell_type": "code",
   "execution_count": null,
   "metadata": {},
   "outputs": [],
   "source": []
  }
 ],
 "metadata": {
  "kernelspec": {
   "display_name": "Python 3 (ipykernel)",
   "language": "python",
   "name": "python3"
  },
  "language_info": {
   "codemirror_mode": {
    "name": "ipython",
    "version": 3
   },
   "file_extension": ".py",
   "mimetype": "text/x-python",
   "name": "python",
   "nbconvert_exporter": "python",
   "pygments_lexer": "ipython3",
   "version": "3.9.7"
  }
 },
 "nbformat": 4,
 "nbformat_minor": 2
}
