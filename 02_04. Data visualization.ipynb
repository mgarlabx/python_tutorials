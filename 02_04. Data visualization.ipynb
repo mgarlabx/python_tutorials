{
 "cells": [
  {
   "cell_type": "markdown",
   "metadata": {
    "button": false,
    "new_sheet": false,
    "run_control": {
     "read_only": false
    }
   },
   "source": [
    "# Python Tutorials\n",
    "\n",
    "### Data visualization\n",
    "\n",
    "Solvertank Digital Science   \n",
    "[http://www.solvertank.com](http://www.solvertank.com)   \n",
    "<img src='cube.gif' align='left' width='50' />"
   ]
  },
  {
   "cell_type": "markdown",
   "metadata": {
    "button": false,
    "new_sheet": false,
    "run_control": {
     "read_only": false
    }
   },
   "source": [
    "## Load data"
   ]
  },
  {
   "cell_type": "code",
   "execution_count": 1,
   "metadata": {
    "button": false,
    "new_sheet": false,
    "run_control": {
     "read_only": false
    },
    "scrolled": true
   },
   "outputs": [],
   "source": [
    "import pandas as pd\n",
    "import numpy as np\n",
    "import matplotlib.pyplot as plt"
   ]
  },
  {
   "cell_type": "code",
   "execution_count": 2,
   "metadata": {
    "button": false,
    "new_sheet": false,
    "run_control": {
     "read_only": false
    },
    "scrolled": true
   },
   "outputs": [],
   "source": [
    "from pandas import ExcelFile\n",
    "df = pd.read_excel('datavis.xlsx', sheet_name='datavis')"
   ]
  },
  {
   "cell_type": "code",
   "execution_count": null,
   "metadata": {},
   "outputs": [],
   "source": [
    "pd.set_option('display.max_columns', None) # display all columns\n",
    "pd.set_option('display.max_rows', 100) # display 100 rows"
   ]
  },
  {
   "cell_type": "code",
   "execution_count": 3,
   "metadata": {
    "button": false,
    "new_sheet": false,
    "run_control": {
     "read_only": false
    },
    "scrolled": true
   },
   "outputs": [
    {
     "data": {
      "text/html": [
       "<div>\n",
       "<style scoped>\n",
       "    .dataframe tbody tr th:only-of-type {\n",
       "        vertical-align: middle;\n",
       "    }\n",
       "\n",
       "    .dataframe tbody tr th {\n",
       "        vertical-align: top;\n",
       "    }\n",
       "\n",
       "    .dataframe thead th {\n",
       "        text-align: right;\n",
       "    }\n",
       "</style>\n",
       "<table border=\"1\" class=\"dataframe\">\n",
       "  <thead>\n",
       "    <tr style=\"text-align: right;\">\n",
       "      <th></th>\n",
       "      <th>status</th>\n",
       "      <th>bmi</th>\n",
       "      <th>bp</th>\n",
       "      <th>sex</th>\n",
       "      <th>category</th>\n",
       "      <th>region</th>\n",
       "    </tr>\n",
       "  </thead>\n",
       "  <tbody>\n",
       "    <tr>\n",
       "      <th>0</th>\n",
       "      <td>-0.107226</td>\n",
       "      <td>NaN</td>\n",
       "      <td>-0.040099</td>\n",
       "      <td>M</td>\n",
       "      <td>White</td>\n",
       "      <td>4</td>\n",
       "    </tr>\n",
       "    <tr>\n",
       "      <th>1</th>\n",
       "      <td>NaN</td>\n",
       "      <td>-0.055785</td>\n",
       "      <td>0.025315</td>\n",
       "      <td>F</td>\n",
       "      <td>Blue</td>\n",
       "      <td>3</td>\n",
       "    </tr>\n",
       "    <tr>\n",
       "      <th>2</th>\n",
       "      <td>0.012648</td>\n",
       "      <td>0.000261</td>\n",
       "      <td>-0.011409</td>\n",
       "      <td>F</td>\n",
       "      <td>Silver</td>\n",
       "      <td>5</td>\n",
       "    </tr>\n",
       "    <tr>\n",
       "      <th>3</th>\n",
       "      <td>-0.052738</td>\n",
       "      <td>-0.018062</td>\n",
       "      <td>0.080401</td>\n",
       "      <td>F</td>\n",
       "      <td>NaN</td>\n",
       "      <td>4</td>\n",
       "    </tr>\n",
       "    <tr>\n",
       "      <th>4</th>\n",
       "      <td>-0.009147</td>\n",
       "      <td>0.001339</td>\n",
       "      <td>-0.002228</td>\n",
       "      <td>F</td>\n",
       "      <td>Silver</td>\n",
       "      <td>1</td>\n",
       "    </tr>\n",
       "  </tbody>\n",
       "</table>\n",
       "</div>"
      ],
      "text/plain": [
       "     status       bmi        bp sex category  region\n",
       "0 -0.107226       NaN -0.040099   M    White       4\n",
       "1       NaN -0.055785  0.025315   F     Blue       3\n",
       "2  0.012648  0.000261 -0.011409   F   Silver       5\n",
       "3 -0.052738 -0.018062  0.080401   F      NaN       4\n",
       "4 -0.009147  0.001339 -0.002228   F   Silver       1"
      ]
     },
     "execution_count": 3,
     "metadata": {},
     "output_type": "execute_result"
    }
   ],
   "source": [
    "df.head(5)"
   ]
  },
  {
   "cell_type": "code",
   "execution_count": 4,
   "metadata": {
    "button": false,
    "new_sheet": false,
    "run_control": {
     "read_only": false
    },
    "scrolled": true
   },
   "outputs": [
    {
     "name": "stdout",
     "output_type": "stream",
     "text": [
      "status\n",
      "bmi\n",
      "bp\n",
      "region\n"
     ]
    }
   ],
   "source": [
    "# list numeric columns\n",
    "for column in df.select_dtypes(exclude=['object']).columns:\n",
    "    print(column)"
   ]
  },
  {
   "cell_type": "code",
   "execution_count": 5,
   "metadata": {
    "button": false,
    "new_sheet": false,
    "run_control": {
     "read_only": false
    }
   },
   "outputs": [
    {
     "name": "stdout",
     "output_type": "stream",
     "text": [
      "sex\n",
      "category\n"
     ]
    }
   ],
   "source": [
    "# list categorical columns\n",
    "for column in df.select_dtypes(include=['object']).columns:\n",
    "    print(column)"
   ]
  },
  {
   "cell_type": "markdown",
   "metadata": {
    "button": false,
    "new_sheet": false,
    "run_control": {
     "read_only": false
    }
   },
   "source": [
    "## Basic descriptive"
   ]
  },
  {
   "cell_type": "code",
   "execution_count": 6,
   "metadata": {},
   "outputs": [
    {
     "data": {
      "text/plain": [
       "(442, 6)"
      ]
     },
     "execution_count": 6,
     "metadata": {},
     "output_type": "execute_result"
    }
   ],
   "source": [
    "df.shape #(rows,columns)"
   ]
  },
  {
   "cell_type": "code",
   "execution_count": 6,
   "metadata": {
    "button": false,
    "new_sheet": false,
    "run_control": {
     "read_only": false
    },
    "scrolled": true
   },
   "outputs": [
    {
     "data": {
      "text/plain": [
       "1.2965684333115339e-16"
      ]
     },
     "execution_count": 6,
     "metadata": {},
     "output_type": "execute_result"
    }
   ],
   "source": [
    "df['bp'].mean()"
   ]
  },
  {
   "cell_type": "code",
   "execution_count": 7,
   "metadata": {
    "button": false,
    "new_sheet": false,
    "run_control": {
     "read_only": false
    },
    "scrolled": true
   },
   "outputs": [
    {
     "data": {
      "text/plain": [
       "0.04761904761904799"
      ]
     },
     "execution_count": 7,
     "metadata": {},
     "output_type": "execute_result"
    }
   ],
   "source": [
    "df['bp'].std()"
   ]
  },
  {
   "cell_type": "code",
   "execution_count": 8,
   "metadata": {
    "button": false,
    "new_sheet": false,
    "run_control": {
     "read_only": false
    },
    "scrolled": true
   },
   "outputs": [
    {
     "data": {
      "text/plain": [
       "0.0022675736961451603"
      ]
     },
     "execution_count": 8,
     "metadata": {},
     "output_type": "execute_result"
    }
   ],
   "source": [
    "df['bp'].var()"
   ]
  },
  {
   "cell_type": "code",
   "execution_count": 9,
   "metadata": {
    "button": false,
    "new_sheet": false,
    "run_control": {
     "read_only": false
    },
    "scrolled": true
   },
   "outputs": [
    {
     "data": {
      "text/plain": [
       "442"
      ]
     },
     "execution_count": 9,
     "metadata": {},
     "output_type": "execute_result"
    }
   ],
   "source": [
    "df['bp'].count()"
   ]
  },
  {
   "cell_type": "code",
   "execution_count": 10,
   "metadata": {
    "button": false,
    "new_sheet": false,
    "run_control": {
     "read_only": false
    },
    "scrolled": true
   },
   "outputs": [
    {
     "data": {
      "text/plain": [
       "5.705158567792523e-14"
      ]
     },
     "execution_count": 10,
     "metadata": {},
     "output_type": "execute_result"
    }
   ],
   "source": [
    "df['bp'].sum()"
   ]
  },
  {
   "cell_type": "code",
   "execution_count": 11,
   "metadata": {
    "button": false,
    "new_sheet": false,
    "run_control": {
     "read_only": false
    },
    "scrolled": true
   },
   "outputs": [
    {
     "data": {
      "text/plain": [
       "0.132044217194516"
      ]
     },
     "execution_count": 11,
     "metadata": {},
     "output_type": "execute_result"
    }
   ],
   "source": [
    "df['bp'].max()"
   ]
  },
  {
   "cell_type": "code",
   "execution_count": 12,
   "metadata": {
    "button": false,
    "new_sheet": false,
    "run_control": {
     "read_only": false
    },
    "scrolled": true
   },
   "outputs": [
    {
     "data": {
      "text/plain": [
       "-0.112399602060758"
      ]
     },
     "execution_count": 12,
     "metadata": {},
     "output_type": "execute_result"
    }
   ],
   "source": [
    "df['bp'].min()"
   ]
  },
  {
   "cell_type": "code",
   "execution_count": 13,
   "metadata": {
    "button": false,
    "new_sheet": false,
    "run_control": {
     "read_only": false
    },
    "scrolled": true
   },
   "outputs": [
    {
     "data": {
      "text/plain": [
       "-0.00567061055493425"
      ]
     },
     "execution_count": 13,
     "metadata": {},
     "output_type": "execute_result"
    }
   ],
   "source": [
    "df['bp'].median()"
   ]
  },
  {
   "cell_type": "markdown",
   "metadata": {
    "button": false,
    "new_sheet": false,
    "run_control": {
     "read_only": false
    }
   },
   "source": [
    "## Count and describe"
   ]
  },
  {
   "cell_type": "code",
   "execution_count": 14,
   "metadata": {
    "button": false,
    "new_sheet": false,
    "run_control": {
     "read_only": false
    }
   },
   "outputs": [
    {
     "data": {
      "text/html": [
       "<div>\n",
       "<style scoped>\n",
       "    .dataframe tbody tr th:only-of-type {\n",
       "        vertical-align: middle;\n",
       "    }\n",
       "\n",
       "    .dataframe tbody tr th {\n",
       "        vertical-align: top;\n",
       "    }\n",
       "\n",
       "    .dataframe thead th {\n",
       "        text-align: right;\n",
       "    }\n",
       "</style>\n",
       "<table border=\"1\" class=\"dataframe\">\n",
       "  <thead>\n",
       "    <tr style=\"text-align: right;\">\n",
       "      <th></th>\n",
       "      <th>sex</th>\n",
       "    </tr>\n",
       "  </thead>\n",
       "  <tbody>\n",
       "    <tr>\n",
       "      <th>M</th>\n",
       "      <td>225</td>\n",
       "    </tr>\n",
       "    <tr>\n",
       "      <th>F</th>\n",
       "      <td>192</td>\n",
       "    </tr>\n",
       "  </tbody>\n",
       "</table>\n",
       "</div>"
      ],
      "text/plain": [
       "   sex\n",
       "M  225\n",
       "F  192"
      ]
     },
     "execution_count": 14,
     "metadata": {},
     "output_type": "execute_result"
    }
   ],
   "source": [
    "df['sex'].value_counts().to_frame()"
   ]
  },
  {
   "cell_type": "code",
   "execution_count": 15,
   "metadata": {
    "button": false,
    "new_sheet": false,
    "run_control": {
     "read_only": false
    },
    "scrolled": true
   },
   "outputs": [
    {
     "data": {
      "text/html": [
       "<div>\n",
       "<style scoped>\n",
       "    .dataframe tbody tr th:only-of-type {\n",
       "        vertical-align: middle;\n",
       "    }\n",
       "\n",
       "    .dataframe tbody tr th {\n",
       "        vertical-align: top;\n",
       "    }\n",
       "\n",
       "    .dataframe thead tr th {\n",
       "        text-align: left;\n",
       "    }\n",
       "\n",
       "    .dataframe thead tr:last-of-type th {\n",
       "        text-align: right;\n",
       "    }\n",
       "</style>\n",
       "<table border=\"1\" class=\"dataframe\">\n",
       "  <thead>\n",
       "    <tr>\n",
       "      <th></th>\n",
       "      <th>status</th>\n",
       "      <th>bmi</th>\n",
       "      <th>bp</th>\n",
       "      <th>category</th>\n",
       "      <th>region</th>\n",
       "    </tr>\n",
       "    <tr>\n",
       "      <th></th>\n",
       "      <th>count</th>\n",
       "      <th>count</th>\n",
       "      <th>count</th>\n",
       "      <th>count</th>\n",
       "      <th>count</th>\n",
       "    </tr>\n",
       "    <tr>\n",
       "      <th>sex</th>\n",
       "      <th></th>\n",
       "      <th></th>\n",
       "      <th></th>\n",
       "      <th></th>\n",
       "      <th></th>\n",
       "    </tr>\n",
       "  </thead>\n",
       "  <tbody>\n",
       "    <tr>\n",
       "      <th>F</th>\n",
       "      <td>175</td>\n",
       "      <td>164</td>\n",
       "      <td>192</td>\n",
       "      <td>129</td>\n",
       "      <td>192</td>\n",
       "    </tr>\n",
       "    <tr>\n",
       "      <th>M</th>\n",
       "      <td>214</td>\n",
       "      <td>184</td>\n",
       "      <td>225</td>\n",
       "      <td>144</td>\n",
       "      <td>225</td>\n",
       "    </tr>\n",
       "  </tbody>\n",
       "</table>\n",
       "</div>"
      ],
      "text/plain": [
       "    status   bmi    bp category region\n",
       "     count count count    count  count\n",
       "sex                                   \n",
       "F      175   164   192      129    192\n",
       "M      214   184   225      144    225"
      ]
     },
     "execution_count": 15,
     "metadata": {},
     "output_type": "execute_result"
    }
   ],
   "source": [
    "# count\n",
    "df.groupby(['sex']).agg(['count'])"
   ]
  },
  {
   "cell_type": "code",
   "execution_count": 16,
   "metadata": {},
   "outputs": [
    {
     "data": {
      "text/html": [
       "<div>\n",
       "<style scoped>\n",
       "    .dataframe tbody tr th:only-of-type {\n",
       "        vertical-align: middle;\n",
       "    }\n",
       "\n",
       "    .dataframe tbody tr th {\n",
       "        vertical-align: top;\n",
       "    }\n",
       "\n",
       "    .dataframe thead th {\n",
       "        text-align: right;\n",
       "    }\n",
       "</style>\n",
       "<table border=\"1\" class=\"dataframe\">\n",
       "  <thead>\n",
       "    <tr style=\"text-align: right;\">\n",
       "      <th></th>\n",
       "      <th>status</th>\n",
       "      <th>bmi</th>\n",
       "      <th>bp</th>\n",
       "      <th>region</th>\n",
       "    </tr>\n",
       "    <tr>\n",
       "      <th>sex</th>\n",
       "      <th></th>\n",
       "      <th></th>\n",
       "      <th></th>\n",
       "      <th></th>\n",
       "    </tr>\n",
       "  </thead>\n",
       "  <tbody>\n",
       "    <tr>\n",
       "      <th>F</th>\n",
       "      <td>0.006317</td>\n",
       "      <td>0.007201</td>\n",
       "      <td>0.012572</td>\n",
       "      <td>2.968750</td>\n",
       "    </tr>\n",
       "    <tr>\n",
       "      <th>M</th>\n",
       "      <td>-0.006414</td>\n",
       "      <td>-0.001807</td>\n",
       "      <td>-0.009924</td>\n",
       "      <td>3.084444</td>\n",
       "    </tr>\n",
       "  </tbody>\n",
       "</table>\n",
       "</div>"
      ],
      "text/plain": [
       "       status       bmi        bp    region\n",
       "sex                                        \n",
       "F    0.006317  0.007201  0.012572  2.968750\n",
       "M   -0.006414 -0.001807 -0.009924  3.084444"
      ]
     },
     "execution_count": 16,
     "metadata": {},
     "output_type": "execute_result"
    }
   ],
   "source": [
    "df.groupby('sex').size()\n",
    "df.groupby('sex').mean()"
   ]
  },
  {
   "cell_type": "code",
   "execution_count": null,
   "metadata": {},
   "outputs": [],
   "source": []
  },
  {
   "cell_type": "code",
   "execution_count": null,
   "metadata": {},
   "outputs": [],
   "source": []
  },
  {
   "cell_type": "code",
   "execution_count": null,
   "metadata": {},
   "outputs": [],
   "source": []
  },
  {
   "cell_type": "code",
   "execution_count": 17,
   "metadata": {
    "button": false,
    "new_sheet": false,
    "run_control": {
     "read_only": false
    }
   },
   "outputs": [
    {
     "name": "stdout",
     "output_type": "stream",
     "text": [
      "\n",
      "      status  amount\n",
      "0  -0.107226       2\n",
      "1  -0.103593       3\n",
      "2  -0.099961       1\n",
      "3  -0.096328       4\n",
      "4  -0.092695       4\n",
      "5  -0.089063       3\n",
      "6  -0.085430       5\n",
      "7  -0.081798       2\n",
      "8  -0.078165       2\n",
      "9  -0.074533       8\n",
      "10 -0.070900       5\n",
      "11 -0.067268       3\n",
      "12 -0.063635       4\n",
      "13 -0.060003       7\n",
      "14 -0.056370       6\n",
      "15 -0.052738      14\n",
      "16 -0.049105       7\n",
      "17 -0.045472       8\n",
      "18 -0.041840      10\n",
      "19 -0.038207       6\n",
      "20 -0.034575       6\n",
      "21 -0.030942       5\n",
      "22 -0.027310      13\n",
      "23 -0.023677      10\n",
      "24 -0.020045       6\n",
      "25 -0.016412       7\n",
      "26 -0.012780       4\n",
      "27 -0.009147       9\n",
      "28 -0.005515      11\n",
      "29 -0.001882      14\n",
      "30  0.001751      12\n",
      "31  0.005383      13\n",
      "32  0.009016      15\n",
      "33  0.012648      12\n",
      "34  0.016281      18\n",
      "35  0.019913      11\n",
      "36  0.023546      12\n",
      "37  0.027178       9\n",
      "38  0.030811      11\n",
      "39  0.034443       6\n",
      "40  0.038076       9\n",
      "41  0.041708      15\n",
      "42  0.045341      12\n",
      "43  0.048974      11\n",
      "44  0.052606       3\n",
      "45  0.056239       5\n",
      "46  0.059871       6\n",
      "47  0.063504       6\n",
      "48  0.067136      13\n",
      "49  0.070769       7\n",
      "50  0.074401       6\n",
      "51  0.078034       1\n",
      "52  0.081666       4\n",
      "53  0.085299       1\n",
      "54  0.088931       1\n",
      "55  0.092564       1\n",
      "56  0.096197       2\n",
      "57  0.110727       2\n",
      "\n",
      "          bmi  amount\n",
      "0   -0.090275       1\n",
      "1   -0.084886       1\n",
      "2   -0.081653       1\n",
      "3   -0.080575       1\n",
      "4   -0.079497       1\n",
      "5   -0.077342       2\n",
      "6   -0.076264       1\n",
      "7   -0.075186       1\n",
      "8   -0.074108       1\n",
      "9   -0.073030       1\n",
      "10  -0.071952       1\n",
      "11  -0.070875       1\n",
      "12  -0.069797       2\n",
      "13  -0.068719       1\n",
      "14  -0.067641       1\n",
      "15  -0.066563       3\n",
      "16  -0.065486       4\n",
      "17  -0.064408       3\n",
      "18  -0.063330       1\n",
      "19  -0.062252       1\n",
      "20  -0.061174       2\n",
      "21  -0.060097       1\n",
      "22  -0.059019       2\n",
      "23  -0.057941       5\n",
      "24  -0.056863       2\n",
      "25  -0.055785       3\n",
      "26  -0.054707       2\n",
      "27  -0.053630       1\n",
      "28  -0.052552       1\n",
      "29  -0.050396       1\n",
      "..        ...     ...\n",
      "122  0.059541       5\n",
      "123  0.060618       5\n",
      "124  0.061696       3\n",
      "125  0.063852       1\n",
      "126  0.064930       2\n",
      "127  0.067085       1\n",
      "128  0.068163       2\n",
      "129  0.069241       2\n",
      "130  0.070319       1\n",
      "131  0.071397       4\n",
      "132  0.072474       1\n",
      "133  0.074630       1\n",
      "134  0.076786       1\n",
      "135  0.077863       1\n",
      "136  0.081097       1\n",
      "137  0.085408       2\n",
      "138  0.088642       3\n",
      "139  0.092953       3\n",
      "140  0.094031       1\n",
      "141  0.096186       1\n",
      "142  0.098342       1\n",
      "143  0.104809       2\n",
      "144  0.110198       1\n",
      "145  0.111276       1\n",
      "146  0.114509       1\n",
      "147  0.123131       1\n",
      "148  0.128521       1\n",
      "149  0.137143       1\n",
      "150  0.160855       1\n",
      "151  0.170555       1\n",
      "\n",
      "[152 rows x 2 columns]\n",
      "\n",
      "          bp  amount\n",
      "0  -0.112400       1\n",
      "1  -0.108957       1\n",
      "2  -0.102071       1\n",
      "3  -0.100923       1\n",
      "4  -0.098628       1\n",
      "5  -0.084857       4\n",
      "6  -0.081414       4\n",
      "7  -0.077971       1\n",
      "8  -0.074528       9\n",
      "9  -0.071085       1\n",
      "10 -0.069938       1\n",
      "11 -0.068790       1\n",
      "12 -0.067642       4\n",
      "13 -0.066495       1\n",
      "14 -0.064199       4\n",
      "15 -0.061904       1\n",
      "16 -0.060757       3\n",
      "17 -0.057314      10\n",
      "18 -0.056166       2\n",
      "19 -0.055018       1\n",
      "20 -0.053871       5\n",
      "21 -0.052723       1\n",
      "22 -0.050428       6\n",
      "23 -0.049280       1\n",
      "24 -0.046985       8\n",
      "25 -0.043542       7\n",
      "26 -0.042395       1\n",
      "27 -0.041247       1\n",
      "28 -0.040099      21\n",
      "29 -0.036656       9\n",
      "..       ...     ...\n",
      "70  0.039087       3\n",
      "71  0.042530       6\n",
      "72  0.043677       1\n",
      "73  0.045972       3\n",
      "74  0.049415      11\n",
      "75  0.052858       8\n",
      "76  0.055153       1\n",
      "77  0.056301       8\n",
      "78  0.057449       1\n",
      "79  0.058596       2\n",
      "80  0.059744       5\n",
      "81  0.062039       1\n",
      "82  0.063187      10\n",
      "83  0.066630       3\n",
      "84  0.070073      10\n",
      "85  0.073515       1\n",
      "86  0.076958       5\n",
      "87  0.079254       1\n",
      "88  0.080401       1\n",
      "89  0.083844       2\n",
      "90  0.087287       4\n",
      "91  0.090730       2\n",
      "92  0.094173       1\n",
      "93  0.097616       5\n",
      "94  0.098763       1\n",
      "95  0.101058       1\n",
      "96  0.104501       2\n",
      "97  0.107944       3\n",
      "98  0.125158       1\n",
      "99  0.132044       1\n",
      "\n",
      "[100 rows x 2 columns]\n",
      "\n",
      "  sex  amount\n",
      "0   F     192\n",
      "1   M     225\n",
      "\n",
      "   category  amount\n",
      "0      Blue      63\n",
      "1      Gold      70\n",
      "2  Platinum      24\n",
      "3    Silver     100\n",
      "4     White      32\n",
      "\n",
      "   region  amount\n",
      "0       1      89\n",
      "1       2      87\n",
      "2       3      88\n",
      "3       4      84\n",
      "4       5      94\n"
     ]
    }
   ],
   "source": [
    "# group and count all columns\n",
    "for column in df.columns:\n",
    "    TB = df.groupby(column).size().to_frame(name = 'amount').reset_index()\n",
    "    print(\"\")\n",
    "    print(TB)"
   ]
  },
  {
   "cell_type": "code",
   "execution_count": 18,
   "metadata": {
    "button": false,
    "new_sheet": false,
    "run_control": {
     "read_only": false
    },
    "scrolled": true
   },
   "outputs": [
    {
     "data": {
      "text/html": [
       "<div>\n",
       "<style scoped>\n",
       "    .dataframe tbody tr th:only-of-type {\n",
       "        vertical-align: middle;\n",
       "    }\n",
       "\n",
       "    .dataframe tbody tr th {\n",
       "        vertical-align: top;\n",
       "    }\n",
       "\n",
       "    .dataframe thead th {\n",
       "        text-align: right;\n",
       "    }\n",
       "</style>\n",
       "<table border=\"1\" class=\"dataframe\">\n",
       "  <thead>\n",
       "    <tr style=\"text-align: right;\">\n",
       "      <th></th>\n",
       "      <th>status</th>\n",
       "      <th>bmi</th>\n",
       "      <th>bp</th>\n",
       "      <th>region</th>\n",
       "    </tr>\n",
       "  </thead>\n",
       "  <tbody>\n",
       "    <tr>\n",
       "      <th>count</th>\n",
       "      <td>413.000000</td>\n",
       "      <td>367.000000</td>\n",
       "      <td>4.420000e+02</td>\n",
       "      <td>442.000000</td>\n",
       "    </tr>\n",
       "    <tr>\n",
       "      <th>mean</th>\n",
       "      <td>0.000071</td>\n",
       "      <td>0.001812</td>\n",
       "      <td>1.296568e-16</td>\n",
       "      <td>3.015837</td>\n",
       "    </tr>\n",
       "    <tr>\n",
       "      <th>std</th>\n",
       "      <td>0.047463</td>\n",
       "      <td>0.047748</td>\n",
       "      <td>4.761905e-02</td>\n",
       "      <td>1.430863</td>\n",
       "    </tr>\n",
       "    <tr>\n",
       "      <th>min</th>\n",
       "      <td>-0.107226</td>\n",
       "      <td>-0.090275</td>\n",
       "      <td>-1.123996e-01</td>\n",
       "      <td>1.000000</td>\n",
       "    </tr>\n",
       "    <tr>\n",
       "      <th>25%</th>\n",
       "      <td>-0.038207</td>\n",
       "      <td>-0.033151</td>\n",
       "      <td>-3.665645e-02</td>\n",
       "      <td>2.000000</td>\n",
       "    </tr>\n",
       "    <tr>\n",
       "      <th>50%</th>\n",
       "      <td>0.005383</td>\n",
       "      <td>-0.005128</td>\n",
       "      <td>-5.670611e-03</td>\n",
       "      <td>3.000000</td>\n",
       "    </tr>\n",
       "    <tr>\n",
       "      <th>75%</th>\n",
       "      <td>0.038076</td>\n",
       "      <td>0.034212</td>\n",
       "      <td>3.564384e-02</td>\n",
       "      <td>4.000000</td>\n",
       "    </tr>\n",
       "    <tr>\n",
       "      <th>max</th>\n",
       "      <td>0.110727</td>\n",
       "      <td>0.170555</td>\n",
       "      <td>1.320442e-01</td>\n",
       "      <td>5.000000</td>\n",
       "    </tr>\n",
       "  </tbody>\n",
       "</table>\n",
       "</div>"
      ],
      "text/plain": [
       "           status         bmi            bp      region\n",
       "count  413.000000  367.000000  4.420000e+02  442.000000\n",
       "mean     0.000071    0.001812  1.296568e-16    3.015837\n",
       "std      0.047463    0.047748  4.761905e-02    1.430863\n",
       "min     -0.107226   -0.090275 -1.123996e-01    1.000000\n",
       "25%     -0.038207   -0.033151 -3.665645e-02    2.000000\n",
       "50%      0.005383   -0.005128 -5.670611e-03    3.000000\n",
       "75%      0.038076    0.034212  3.564384e-02    4.000000\n",
       "max      0.110727    0.170555  1.320442e-01    5.000000"
      ]
     },
     "execution_count": 18,
     "metadata": {},
     "output_type": "execute_result"
    }
   ],
   "source": [
    "# describe\n",
    "df.describe()"
   ]
  },
  {
   "cell_type": "markdown",
   "metadata": {},
   "source": [
    "## Inspect columns"
   ]
  },
  {
   "cell_type": "code",
   "execution_count": 1,
   "metadata": {
    "scrolled": true
   },
   "outputs": [],
   "source": [
    "# describe table columns\n",
    "def df_describe(dff):\n",
    "    ret = []\n",
    "    for column in dff.columns:\n",
    "        ret.append([column, dff[column].size,  dff[column].isnull().sum(), dff[column].drop_duplicates().count()])\n",
    "    ret = pd.DataFrame(data=ret, columns=['column','rows','nulls','distinct'])\n",
    "    return ret"
   ]
  },
  {
   "cell_type": "code",
   "execution_count": 35,
   "metadata": {},
   "outputs": [
    {
     "name": "stdout",
     "output_type": "stream",
     "text": [
      "-------------------------------------------------------------\n",
      "COLUMN                           ROWS       NULLS    DISTINCT\n",
      "-------------------------------------------------------------\n",
      "status                            442          29          58\n",
      "bmi                               442          75         152\n",
      "bp                                442           0         100\n",
      "sex                               442          25           2\n",
      "category                          442         153           5\n",
      "region                            442           0           5\n"
     ]
    }
   ],
   "source": [
    "df_describe(df)"
   ]
  },
  {
   "cell_type": "code",
   "execution_count": 36,
   "metadata": {},
   "outputs": [],
   "source": [
    "def df_column_count(df, column):\n",
    "    dff = df[column].value_counts().to_frame()\n",
    "    dff = dff[column].value_counts().to_frame()\n",
    "    dff['percent'] = dff[column]/dff[column].sum()\n",
    "    return dff"
   ]
  },
  {
   "cell_type": "code",
   "execution_count": 37,
   "metadata": {},
   "outputs": [
    {
     "data": {
      "text/html": [
       "<div>\n",
       "<style scoped>\n",
       "    .dataframe tbody tr th:only-of-type {\n",
       "        vertical-align: middle;\n",
       "    }\n",
       "\n",
       "    .dataframe tbody tr th {\n",
       "        vertical-align: top;\n",
       "    }\n",
       "\n",
       "    .dataframe thead th {\n",
       "        text-align: right;\n",
       "    }\n",
       "</style>\n",
       "<table border=\"1\" class=\"dataframe\">\n",
       "  <thead>\n",
       "    <tr style=\"text-align: right;\">\n",
       "      <th></th>\n",
       "      <th>status</th>\n",
       "      <th>percent</th>\n",
       "    </tr>\n",
       "  </thead>\n",
       "  <tbody>\n",
       "    <tr>\n",
       "      <th>6</th>\n",
       "      <td>8</td>\n",
       "      <td>0.137931</td>\n",
       "    </tr>\n",
       "    <tr>\n",
       "      <th>4</th>\n",
       "      <td>5</td>\n",
       "      <td>0.086207</td>\n",
       "    </tr>\n",
       "    <tr>\n",
       "      <th>2</th>\n",
       "      <td>5</td>\n",
       "      <td>0.086207</td>\n",
       "    </tr>\n",
       "    <tr>\n",
       "      <th>1</th>\n",
       "      <td>5</td>\n",
       "      <td>0.086207</td>\n",
       "    </tr>\n",
       "    <tr>\n",
       "      <th>12</th>\n",
       "      <td>4</td>\n",
       "      <td>0.068966</td>\n",
       "    </tr>\n",
       "    <tr>\n",
       "      <th>11</th>\n",
       "      <td>4</td>\n",
       "      <td>0.068966</td>\n",
       "    </tr>\n",
       "    <tr>\n",
       "      <th>7</th>\n",
       "      <td>4</td>\n",
       "      <td>0.068966</td>\n",
       "    </tr>\n",
       "    <tr>\n",
       "      <th>5</th>\n",
       "      <td>4</td>\n",
       "      <td>0.068966</td>\n",
       "    </tr>\n",
       "    <tr>\n",
       "      <th>3</th>\n",
       "      <td>4</td>\n",
       "      <td>0.068966</td>\n",
       "    </tr>\n",
       "    <tr>\n",
       "      <th>13</th>\n",
       "      <td>3</td>\n",
       "      <td>0.051724</td>\n",
       "    </tr>\n",
       "    <tr>\n",
       "      <th>9</th>\n",
       "      <td>3</td>\n",
       "      <td>0.051724</td>\n",
       "    </tr>\n",
       "    <tr>\n",
       "      <th>15</th>\n",
       "      <td>2</td>\n",
       "      <td>0.034483</td>\n",
       "    </tr>\n",
       "    <tr>\n",
       "      <th>14</th>\n",
       "      <td>2</td>\n",
       "      <td>0.034483</td>\n",
       "    </tr>\n",
       "    <tr>\n",
       "      <th>10</th>\n",
       "      <td>2</td>\n",
       "      <td>0.034483</td>\n",
       "    </tr>\n",
       "    <tr>\n",
       "      <th>8</th>\n",
       "      <td>2</td>\n",
       "      <td>0.034483</td>\n",
       "    </tr>\n",
       "    <tr>\n",
       "      <th>18</th>\n",
       "      <td>1</td>\n",
       "      <td>0.017241</td>\n",
       "    </tr>\n",
       "  </tbody>\n",
       "</table>\n",
       "</div>"
      ],
      "text/plain": [
       "    status   percent\n",
       "6        8  0.137931\n",
       "4        5  0.086207\n",
       "2        5  0.086207\n",
       "1        5  0.086207\n",
       "12       4  0.068966\n",
       "11       4  0.068966\n",
       "7        4  0.068966\n",
       "5        4  0.068966\n",
       "3        4  0.068966\n",
       "13       3  0.051724\n",
       "9        3  0.051724\n",
       "15       2  0.034483\n",
       "14       2  0.034483\n",
       "10       2  0.034483\n",
       "8        2  0.034483\n",
       "18       1  0.017241"
      ]
     },
     "execution_count": 37,
     "metadata": {},
     "output_type": "execute_result"
    }
   ],
   "source": [
    "df_column_count(df, 'status')"
   ]
  },
  {
   "cell_type": "code",
   "execution_count": 44,
   "metadata": {},
   "outputs": [],
   "source": [
    "# count values by label\n",
    "def df_column_values(df, column, order_by_amount):\n",
    "    dff = df.groupby(column).size().to_frame(name='amount').reset_index()\n",
    "    if order_by_amount == 1:\n",
    "        dff = dff.sort_values(by=['amount'], ascending=False)\n",
    "    else:\n",
    "        dff = dff.sort_values(by=[column], ascending=True)\n",
    "    dff['percent'] = dff['amount']/df[column].count()\n",
    "    return dff"
   ]
  },
  {
   "cell_type": "code",
   "execution_count": 45,
   "metadata": {},
   "outputs": [
    {
     "data": {
      "text/html": [
       "<div>\n",
       "<style scoped>\n",
       "    .dataframe tbody tr th:only-of-type {\n",
       "        vertical-align: middle;\n",
       "    }\n",
       "\n",
       "    .dataframe tbody tr th {\n",
       "        vertical-align: top;\n",
       "    }\n",
       "\n",
       "    .dataframe thead th {\n",
       "        text-align: right;\n",
       "    }\n",
       "</style>\n",
       "<table border=\"1\" class=\"dataframe\">\n",
       "  <thead>\n",
       "    <tr style=\"text-align: right;\">\n",
       "      <th></th>\n",
       "      <th>region</th>\n",
       "      <th>amount</th>\n",
       "    </tr>\n",
       "  </thead>\n",
       "  <tbody>\n",
       "    <tr>\n",
       "      <th>0</th>\n",
       "      <td>1</td>\n",
       "      <td>89</td>\n",
       "    </tr>\n",
       "    <tr>\n",
       "      <th>1</th>\n",
       "      <td>2</td>\n",
       "      <td>87</td>\n",
       "    </tr>\n",
       "    <tr>\n",
       "      <th>2</th>\n",
       "      <td>3</td>\n",
       "      <td>88</td>\n",
       "    </tr>\n",
       "    <tr>\n",
       "      <th>3</th>\n",
       "      <td>4</td>\n",
       "      <td>84</td>\n",
       "    </tr>\n",
       "    <tr>\n",
       "      <th>4</th>\n",
       "      <td>5</td>\n",
       "      <td>94</td>\n",
       "    </tr>\n",
       "  </tbody>\n",
       "</table>\n",
       "</div>"
      ],
      "text/plain": [
       "   region  amount\n",
       "0       1      89\n",
       "1       2      87\n",
       "2       3      88\n",
       "3       4      84\n",
       "4       5      94"
      ]
     },
     "execution_count": 45,
     "metadata": {},
     "output_type": "execute_result"
    }
   ],
   "source": [
    "df_column_values(df, 'region', 0)"
   ]
  },
  {
   "cell_type": "code",
   "execution_count": 1,
   "metadata": {},
   "outputs": [],
   "source": [
    "# count values by label grouped\n",
    "def df_column_values_grouped(df, column, order_by_amount):\n",
    "    dff = df.groupby(column).size().to_frame(name='count').reset_index()\n",
    "    dff = dff['count'].to_frame()\n",
    "    dff = dff.groupby('count').size().to_frame(name='amount').reset_index()\n",
    "    if order_by_amount == 1:\n",
    "        dff = dff.sort_values(by=['amount'], ascending=False)\n",
    "    else:\n",
    "        dff = dff.sort_values(by=['count'], ascending=True)\n",
    "    dff['percent'] = dff['amount']/dff['amount'].sum()\n",
    "    return dff"
   ]
  },
  {
   "cell_type": "markdown",
   "metadata": {
    "button": false,
    "new_sheet": false,
    "run_control": {
     "read_only": false
    }
   },
   "source": [
    "## Histogram"
   ]
  },
  {
   "cell_type": "code",
   "execution_count": null,
   "metadata": {},
   "outputs": [],
   "source": [
    "# mean, max, min and histogram\n",
    "def df_column_dispersion(df, column):\n",
    "    print(df[column].describe())\n",
    "    print(df[column].plot.hist(bins=50, alpha=0.8))"
   ]
  },
  {
   "cell_type": "code",
   "execution_count": 20,
   "metadata": {
    "button": false,
    "new_sheet": false,
    "run_control": {
     "read_only": false
    },
    "scrolled": true
   },
   "outputs": [
    {
     "data": {
      "image/png": "[encoded data removed]",
      "text/plain": [
       "<Figure size 432x288 with 1 Axes>"
      ]
     },
     "metadata": {
      "needs_background": "light"
     },
     "output_type": "display_data"
    }
   ],
   "source": [
    "#https://pandas.pydata.org/pandas-docs/stable/reference/api/pandas.DataFrame.plot.html#pandas.DataFrame.plot\n",
    "hist = df['bp'].plot.hist(bins=10, alpha=0.8)\n",
    "#try changing bins and alpha"
   ]
  },
  {
   "cell_type": "code",
   "execution_count": 21,
   "metadata": {},
   "outputs": [
    {
     "data": {
      "text/plain": [
       "bp\n",
       "(-0.113, -0.088]       5\n",
       "(-0.088, -0.0635]     30\n",
       "(-0.0635, -0.0391]    68\n",
       "(-0.0391, -0.0146]    90\n",
       "(-0.0146, 0.00982]    78\n",
       "(0.00982, 0.0343]     58\n",
       "(0.0343, 0.0587]      53\n",
       "(0.0587, 0.0832]      37\n",
       "(0.0832, 0.108]       18\n",
       "(0.108, 0.132]         5\n",
       "dtype: int64"
      ]
     },
     "execution_count": 21,
     "metadata": {},
     "output_type": "execute_result"
    }
   ],
   "source": [
    "df.groupby(pd.cut(df['bp'], 10)).size()"
   ]
  },
  {
   "cell_type": "code",
   "execution_count": 22,
   "metadata": {
    "button": false,
    "new_sheet": false,
    "run_control": {
     "read_only": false
    },
    "scrolled": true
   },
   "outputs": [
    {
     "data": {
      "image/png": "[encoded data removed]",
      "text/plain": [
       "<Figure size 1080x1080 with 4 Axes>"
      ]
     },
     "metadata": {
      "needs_background": "light"
     },
     "output_type": "display_data"
    }
   ],
   "source": [
    "hist = df.hist(bins=10, figsize=(15, 15))"
   ]
  },
  {
   "cell_type": "markdown",
   "metadata": {
    "button": false,
    "new_sheet": false,
    "run_control": {
     "read_only": false
    }
   },
   "source": [
    "## Correlation"
   ]
  },
  {
   "cell_type": "code",
   "execution_count": 23,
   "metadata": {
    "button": false,
    "new_sheet": false,
    "run_control": {
     "read_only": false
    },
    "scrolled": true
   },
   "outputs": [
    {
     "data": {
      "text/html": [
       "<div>\n",
       "<style scoped>\n",
       "    .dataframe tbody tr th:only-of-type {\n",
       "        vertical-align: middle;\n",
       "    }\n",
       "\n",
       "    .dataframe tbody tr th {\n",
       "        vertical-align: top;\n",
       "    }\n",
       "\n",
       "    .dataframe thead th {\n",
       "        text-align: right;\n",
       "    }\n",
       "</style>\n",
       "<table border=\"1\" class=\"dataframe\">\n",
       "  <thead>\n",
       "    <tr style=\"text-align: right;\">\n",
       "      <th></th>\n",
       "      <th>status</th>\n",
       "      <th>bmi</th>\n",
       "      <th>bp</th>\n",
       "      <th>region</th>\n",
       "    </tr>\n",
       "  </thead>\n",
       "  <tbody>\n",
       "    <tr>\n",
       "      <th>status</th>\n",
       "      <td>1.000000</td>\n",
       "      <td>0.140717</td>\n",
       "      <td>0.334580</td>\n",
       "      <td>-0.034636</td>\n",
       "    </tr>\n",
       "    <tr>\n",
       "      <th>bmi</th>\n",
       "      <td>0.140717</td>\n",
       "      <td>1.000000</td>\n",
       "      <td>0.400588</td>\n",
       "      <td>-0.054701</td>\n",
       "    </tr>\n",
       "    <tr>\n",
       "      <th>bp</th>\n",
       "      <td>0.334580</td>\n",
       "      <td>0.400588</td>\n",
       "      <td>1.000000</td>\n",
       "      <td>0.006318</td>\n",
       "    </tr>\n",
       "    <tr>\n",
       "      <th>region</th>\n",
       "      <td>-0.034636</td>\n",
       "      <td>-0.054701</td>\n",
       "      <td>0.006318</td>\n",
       "      <td>1.000000</td>\n",
       "    </tr>\n",
       "  </tbody>\n",
       "</table>\n",
       "</div>"
      ],
      "text/plain": [
       "          status       bmi        bp    region\n",
       "status  1.000000  0.140717  0.334580 -0.034636\n",
       "bmi     0.140717  1.000000  0.400588 -0.054701\n",
       "bp      0.334580  0.400588  1.000000  0.006318\n",
       "region -0.034636 -0.054701  0.006318  1.000000"
      ]
     },
     "execution_count": 23,
     "metadata": {},
     "output_type": "execute_result"
    }
   ],
   "source": [
    "#https://pandas.pydata.org/pandas-docs/stable/reference/api/pandas.DataFrame.corr.html\n",
    "df.corr()"
   ]
  },
  {
   "cell_type": "code",
   "execution_count": 24,
   "metadata": {},
   "outputs": [
    {
     "data": {
      "text/plain": [
       "region   -0.034636\n",
       "bmi       0.140717\n",
       "bp        0.334580\n",
       "status    1.000000\n",
       "dtype: float64"
      ]
     },
     "execution_count": 24,
     "metadata": {},
     "output_type": "execute_result"
    }
   ],
   "source": [
    "df.corrwith(df['status']).sort_values()"
   ]
  },
  {
   "cell_type": "code",
   "execution_count": 25,
   "metadata": {
    "button": false,
    "new_sheet": false,
    "run_control": {
     "read_only": false
    },
    "scrolled": true
   },
   "outputs": [
    {
     "data": {
      "image/png": "[encoded data removed]",
      "text/plain": [
       "<Figure size 1080x1080 with 16 Axes>"
      ]
     },
     "metadata": {
      "needs_background": "light"
     },
     "output_type": "display_data"
    }
   ],
   "source": [
    "# scatter matrix\n",
    "pd.plotting.scatter_matrix(df, figsize=(15, 15))\n",
    "plt.show()"
   ]
  },
  {
   "cell_type": "markdown",
   "metadata": {
    "button": false,
    "new_sheet": false,
    "run_control": {
     "read_only": false
    }
   },
   "source": [
    "## Crosstab"
   ]
  },
  {
   "cell_type": "code",
   "execution_count": 26,
   "metadata": {
    "button": false,
    "new_sheet": false,
    "run_control": {
     "read_only": false
    },
    "scrolled": true
   },
   "outputs": [
    {
     "data": {
      "text/html": [
       "<div>\n",
       "<style scoped>\n",
       "    .dataframe tbody tr th:only-of-type {\n",
       "        vertical-align: middle;\n",
       "    }\n",
       "\n",
       "    .dataframe tbody tr th {\n",
       "        vertical-align: top;\n",
       "    }\n",
       "\n",
       "    .dataframe thead th {\n",
       "        text-align: right;\n",
       "    }\n",
       "</style>\n",
       "<table border=\"1\" class=\"dataframe\">\n",
       "  <thead>\n",
       "    <tr style=\"text-align: right;\">\n",
       "      <th>category</th>\n",
       "      <th>Blue</th>\n",
       "      <th>Gold</th>\n",
       "      <th>Platinum</th>\n",
       "      <th>Silver</th>\n",
       "      <th>White</th>\n",
       "    </tr>\n",
       "    <tr>\n",
       "      <th>sex</th>\n",
       "      <th></th>\n",
       "      <th></th>\n",
       "      <th></th>\n",
       "      <th></th>\n",
       "      <th></th>\n",
       "    </tr>\n",
       "  </thead>\n",
       "  <tbody>\n",
       "    <tr>\n",
       "      <th>F</th>\n",
       "      <td>27</td>\n",
       "      <td>39</td>\n",
       "      <td>12</td>\n",
       "      <td>40</td>\n",
       "      <td>11</td>\n",
       "    </tr>\n",
       "    <tr>\n",
       "      <th>M</th>\n",
       "      <td>35</td>\n",
       "      <td>24</td>\n",
       "      <td>10</td>\n",
       "      <td>55</td>\n",
       "      <td>20</td>\n",
       "    </tr>\n",
       "  </tbody>\n",
       "</table>\n",
       "</div>"
      ],
      "text/plain": [
       "category  Blue  Gold  Platinum  Silver  White\n",
       "sex                                          \n",
       "F           27    39        12      40     11\n",
       "M           35    24        10      55     20"
      ]
     },
     "execution_count": 26,
     "metadata": {},
     "output_type": "execute_result"
    }
   ],
   "source": [
    "#https://pandas.pydata.org/pandas-docs/version/0.23.4/generated/pandas.crosstab.html\n",
    "pd.crosstab(df['sex'],df['category'])"
   ]
  },
  {
   "cell_type": "code",
   "execution_count": 27,
   "metadata": {
    "scrolled": true
   },
   "outputs": [
    {
     "data": {
      "text/html": [
       "<div>\n",
       "<style scoped>\n",
       "    .dataframe tbody tr th:only-of-type {\n",
       "        vertical-align: middle;\n",
       "    }\n",
       "\n",
       "    .dataframe tbody tr th {\n",
       "        vertical-align: top;\n",
       "    }\n",
       "\n",
       "    .dataframe thead th {\n",
       "        text-align: right;\n",
       "    }\n",
       "</style>\n",
       "<table border=\"1\" class=\"dataframe\">\n",
       "  <thead>\n",
       "    <tr style=\"text-align: right;\">\n",
       "      <th>category</th>\n",
       "      <th>Blue</th>\n",
       "      <th>Gold</th>\n",
       "      <th>Platinum</th>\n",
       "      <th>Silver</th>\n",
       "      <th>White</th>\n",
       "    </tr>\n",
       "    <tr>\n",
       "      <th>sex</th>\n",
       "      <th></th>\n",
       "      <th></th>\n",
       "      <th></th>\n",
       "      <th></th>\n",
       "      <th></th>\n",
       "    </tr>\n",
       "  </thead>\n",
       "  <tbody>\n",
       "    <tr>\n",
       "      <th>F</th>\n",
       "      <td>0.209302</td>\n",
       "      <td>0.302326</td>\n",
       "      <td>0.093023</td>\n",
       "      <td>0.310078</td>\n",
       "      <td>0.085271</td>\n",
       "    </tr>\n",
       "    <tr>\n",
       "      <th>M</th>\n",
       "      <td>0.243056</td>\n",
       "      <td>0.166667</td>\n",
       "      <td>0.069444</td>\n",
       "      <td>0.381944</td>\n",
       "      <td>0.138889</td>\n",
       "    </tr>\n",
       "  </tbody>\n",
       "</table>\n",
       "</div>"
      ],
      "text/plain": [
       "category      Blue      Gold  Platinum    Silver     White\n",
       "sex                                                       \n",
       "F         0.209302  0.302326  0.093023  0.310078  0.085271\n",
       "M         0.243056  0.166667  0.069444  0.381944  0.138889"
      ]
     },
     "execution_count": 27,
     "metadata": {},
     "output_type": "execute_result"
    }
   ],
   "source": [
    "# total percentage\n",
    "pd.crosstab(df['sex'],df['category'], normalize='index')"
   ]
  },
  {
   "cell_type": "code",
   "execution_count": 28,
   "metadata": {},
   "outputs": [
    {
     "data": {
      "text/html": [
       "<div>\n",
       "<style scoped>\n",
       "    .dataframe tbody tr th:only-of-type {\n",
       "        vertical-align: middle;\n",
       "    }\n",
       "\n",
       "    .dataframe tbody tr th {\n",
       "        vertical-align: top;\n",
       "    }\n",
       "\n",
       "    .dataframe thead th {\n",
       "        text-align: right;\n",
       "    }\n",
       "</style>\n",
       "<table border=\"1\" class=\"dataframe\">\n",
       "  <thead>\n",
       "    <tr style=\"text-align: right;\">\n",
       "      <th>category</th>\n",
       "      <th>Blue</th>\n",
       "      <th>Gold</th>\n",
       "      <th>Platinum</th>\n",
       "      <th>Silver</th>\n",
       "      <th>White</th>\n",
       "    </tr>\n",
       "    <tr>\n",
       "      <th>sex</th>\n",
       "      <th></th>\n",
       "      <th></th>\n",
       "      <th></th>\n",
       "      <th></th>\n",
       "      <th></th>\n",
       "    </tr>\n",
       "  </thead>\n",
       "  <tbody>\n",
       "    <tr>\n",
       "      <th>F</th>\n",
       "      <td>0.435484</td>\n",
       "      <td>0.619048</td>\n",
       "      <td>0.545455</td>\n",
       "      <td>0.421053</td>\n",
       "      <td>0.354839</td>\n",
       "    </tr>\n",
       "    <tr>\n",
       "      <th>M</th>\n",
       "      <td>0.564516</td>\n",
       "      <td>0.380952</td>\n",
       "      <td>0.454545</td>\n",
       "      <td>0.578947</td>\n",
       "      <td>0.645161</td>\n",
       "    </tr>\n",
       "  </tbody>\n",
       "</table>\n",
       "</div>"
      ],
      "text/plain": [
       "category      Blue      Gold  Platinum    Silver     White\n",
       "sex                                                       \n",
       "F         0.435484  0.619048  0.545455  0.421053  0.354839\n",
       "M         0.564516  0.380952  0.454545  0.578947  0.645161"
      ]
     },
     "execution_count": 28,
     "metadata": {},
     "output_type": "execute_result"
    }
   ],
   "source": [
    "# percentage by columns\n",
    "pd.crosstab(df['sex'],df['category'], normalize='columns')"
   ]
  },
  {
   "cell_type": "code",
   "execution_count": 29,
   "metadata": {
    "button": false,
    "new_sheet": false,
    "run_control": {
     "read_only": false
    },
    "scrolled": true
   },
   "outputs": [
    {
     "data": {
      "text/html": [
       "<div>\n",
       "<style scoped>\n",
       "    .dataframe tbody tr th:only-of-type {\n",
       "        vertical-align: middle;\n",
       "    }\n",
       "\n",
       "    .dataframe tbody tr th {\n",
       "        vertical-align: top;\n",
       "    }\n",
       "\n",
       "    .dataframe thead th {\n",
       "        text-align: right;\n",
       "    }\n",
       "</style>\n",
       "<table border=\"1\" class=\"dataframe\">\n",
       "  <thead>\n",
       "    <tr style=\"text-align: right;\">\n",
       "      <th>category</th>\n",
       "      <th>Blue</th>\n",
       "      <th>Gold</th>\n",
       "      <th>Platinum</th>\n",
       "      <th>Silver</th>\n",
       "      <th>White</th>\n",
       "      <th>All</th>\n",
       "    </tr>\n",
       "    <tr>\n",
       "      <th>sex</th>\n",
       "      <th></th>\n",
       "      <th></th>\n",
       "      <th></th>\n",
       "      <th></th>\n",
       "      <th></th>\n",
       "      <th></th>\n",
       "    </tr>\n",
       "  </thead>\n",
       "  <tbody>\n",
       "    <tr>\n",
       "      <th>F</th>\n",
       "      <td>27</td>\n",
       "      <td>39</td>\n",
       "      <td>12</td>\n",
       "      <td>40</td>\n",
       "      <td>11</td>\n",
       "      <td>129</td>\n",
       "    </tr>\n",
       "    <tr>\n",
       "      <th>M</th>\n",
       "      <td>35</td>\n",
       "      <td>24</td>\n",
       "      <td>10</td>\n",
       "      <td>55</td>\n",
       "      <td>20</td>\n",
       "      <td>144</td>\n",
       "    </tr>\n",
       "    <tr>\n",
       "      <th>All</th>\n",
       "      <td>62</td>\n",
       "      <td>63</td>\n",
       "      <td>22</td>\n",
       "      <td>95</td>\n",
       "      <td>31</td>\n",
       "      <td>273</td>\n",
       "    </tr>\n",
       "  </tbody>\n",
       "</table>\n",
       "</div>"
      ],
      "text/plain": [
       "category  Blue  Gold  Platinum  Silver  White  All\n",
       "sex                                               \n",
       "F           27    39        12      40     11  129\n",
       "M           35    24        10      55     20  144\n",
       "All         62    63        22      95     31  273"
      ]
     },
     "execution_count": 29,
     "metadata": {},
     "output_type": "execute_result"
    }
   ],
   "source": [
    "pd.crosstab(df['sex'],df['category'], margins=True)\n",
    "# margins = total lines and columns"
   ]
  },
  {
   "cell_type": "code",
   "execution_count": 30,
   "metadata": {
    "button": false,
    "new_sheet": false,
    "run_control": {
     "read_only": false
    },
    "scrolled": true
   },
   "outputs": [
    {
     "data": {
      "text/html": [
       "<div>\n",
       "<style scoped>\n",
       "    .dataframe tbody tr th:only-of-type {\n",
       "        vertical-align: middle;\n",
       "    }\n",
       "\n",
       "    .dataframe tbody tr th {\n",
       "        vertical-align: top;\n",
       "    }\n",
       "\n",
       "    .dataframe thead th {\n",
       "        text-align: right;\n",
       "    }\n",
       "</style>\n",
       "<table border=\"1\" class=\"dataframe\">\n",
       "  <thead>\n",
       "    <tr style=\"text-align: right;\">\n",
       "      <th>category</th>\n",
       "      <th>Blue</th>\n",
       "      <th>Gold</th>\n",
       "      <th>Platinum</th>\n",
       "      <th>Silver</th>\n",
       "      <th>White</th>\n",
       "    </tr>\n",
       "    <tr>\n",
       "      <th>sex</th>\n",
       "      <th></th>\n",
       "      <th></th>\n",
       "      <th></th>\n",
       "      <th></th>\n",
       "      <th></th>\n",
       "    </tr>\n",
       "  </thead>\n",
       "  <tbody>\n",
       "    <tr>\n",
       "      <th>F</th>\n",
       "      <td>0.264676</td>\n",
       "      <td>0.649126</td>\n",
       "      <td>-0.064215</td>\n",
       "      <td>0.265651</td>\n",
       "      <td>-0.177646</td>\n",
       "    </tr>\n",
       "    <tr>\n",
       "      <th>M</th>\n",
       "      <td>0.279992</td>\n",
       "      <td>0.000124</td>\n",
       "      <td>0.281502</td>\n",
       "      <td>-0.292236</td>\n",
       "      <td>-0.386254</td>\n",
       "    </tr>\n",
       "  </tbody>\n",
       "</table>\n",
       "</div>"
      ],
      "text/plain": [
       "category      Blue      Gold  Platinum    Silver     White\n",
       "sex                                                       \n",
       "F         0.264676  0.649126 -0.064215  0.265651 -0.177646\n",
       "M         0.279992  0.000124  0.281502 -0.292236 -0.386254"
      ]
     },
     "execution_count": 30,
     "metadata": {},
     "output_type": "execute_result"
    }
   ],
   "source": [
    "pd.crosstab(df['sex'],df['category'],df['bmi'], aggfunc=sum)"
   ]
  },
  {
   "cell_type": "code",
   "execution_count": 31,
   "metadata": {
    "button": false,
    "new_sheet": false,
    "run_control": {
     "read_only": false
    },
    "scrolled": false
   },
   "outputs": [
    {
     "data": {
      "text/html": [
       "<div>\n",
       "<style scoped>\n",
       "    .dataframe tbody tr th:only-of-type {\n",
       "        vertical-align: middle;\n",
       "    }\n",
       "\n",
       "    .dataframe tbody tr th {\n",
       "        vertical-align: top;\n",
       "    }\n",
       "\n",
       "    .dataframe thead th {\n",
       "        text-align: right;\n",
       "    }\n",
       "</style>\n",
       "<table border=\"1\" class=\"dataframe\">\n",
       "  <thead>\n",
       "    <tr style=\"text-align: right;\">\n",
       "      <th>category</th>\n",
       "      <th>Blue</th>\n",
       "      <th>Gold</th>\n",
       "      <th>Platinum</th>\n",
       "      <th>Silver</th>\n",
       "      <th>White</th>\n",
       "    </tr>\n",
       "    <tr>\n",
       "      <th>sex</th>\n",
       "      <th></th>\n",
       "      <th></th>\n",
       "      <th></th>\n",
       "      <th></th>\n",
       "      <th></th>\n",
       "    </tr>\n",
       "  </thead>\n",
       "  <tbody>\n",
       "    <tr>\n",
       "      <th>F</th>\n",
       "      <td>0.322493</td>\n",
       "      <td>0.790923</td>\n",
       "      <td>-0.078243</td>\n",
       "      <td>0.323681</td>\n",
       "      <td>-0.216452</td>\n",
       "    </tr>\n",
       "    <tr>\n",
       "      <th>M</th>\n",
       "      <td>0.341154</td>\n",
       "      <td>0.000152</td>\n",
       "      <td>0.342994</td>\n",
       "      <td>-0.356073</td>\n",
       "      <td>-0.470629</td>\n",
       "    </tr>\n",
       "  </tbody>\n",
       "</table>\n",
       "</div>"
      ],
      "text/plain": [
       "category      Blue      Gold  Platinum    Silver     White\n",
       "sex                                                       \n",
       "F         0.322493  0.790923 -0.078243  0.323681 -0.216452\n",
       "M         0.341154  0.000152  0.342994 -0.356073 -0.470629"
      ]
     },
     "execution_count": 31,
     "metadata": {},
     "output_type": "execute_result"
    }
   ],
   "source": [
    "pd.crosstab(df['sex'],df['category'],df['bmi'], aggfunc=sum, normalize=True)\n",
    "# normalize = divide all values by the sum of values (percentage)"
   ]
  },
  {
   "cell_type": "code",
   "execution_count": 32,
   "metadata": {
    "button": false,
    "new_sheet": false,
    "run_control": {
     "read_only": false
    },
    "scrolled": true
   },
   "outputs": [
    {
     "data": {
      "image/png": "[encoded data removed]",
      "text/plain": [
       "<Figure size 432x288 with 1 Axes>"
      ]
     },
     "metadata": {
      "needs_background": "light"
     },
     "output_type": "display_data"
    }
   ],
   "source": [
    "#https://pandas.pydata.org/pandas-docs/stable/reference/api/pandas.DataFrame.plot.html\n",
    "chart = pd.crosstab(df['sex'],df['category']).plot(kind='bar')"
   ]
  },
  {
   "cell_type": "markdown",
   "metadata": {
    "button": false,
    "new_sheet": false,
    "run_control": {
     "read_only": false
    }
   },
   "source": [
    "## Pivot table"
   ]
  },
  {
   "cell_type": "code",
   "execution_count": 33,
   "metadata": {
    "button": false,
    "new_sheet": false,
    "run_control": {
     "read_only": false
    },
    "scrolled": true
   },
   "outputs": [
    {
     "data": {
      "text/html": [
       "<div>\n",
       "<style scoped>\n",
       "    .dataframe tbody tr th:only-of-type {\n",
       "        vertical-align: middle;\n",
       "    }\n",
       "\n",
       "    .dataframe tbody tr th {\n",
       "        vertical-align: top;\n",
       "    }\n",
       "\n",
       "    .dataframe thead tr th {\n",
       "        text-align: left;\n",
       "    }\n",
       "\n",
       "    .dataframe thead tr:last-of-type th {\n",
       "        text-align: right;\n",
       "    }\n",
       "</style>\n",
       "<table border=\"1\" class=\"dataframe\">\n",
       "  <thead>\n",
       "    <tr>\n",
       "      <th></th>\n",
       "      <th colspan=\"5\" halign=\"left\">len</th>\n",
       "      <th colspan=\"5\" halign=\"left\">mean</th>\n",
       "    </tr>\n",
       "    <tr>\n",
       "      <th></th>\n",
       "      <th colspan=\"5\" halign=\"left\">bmi</th>\n",
       "      <th colspan=\"5\" halign=\"left\">bmi</th>\n",
       "    </tr>\n",
       "    <tr>\n",
       "      <th>category</th>\n",
       "      <th>Blue</th>\n",
       "      <th>Gold</th>\n",
       "      <th>Platinum</th>\n",
       "      <th>Silver</th>\n",
       "      <th>White</th>\n",
       "      <th>Blue</th>\n",
       "      <th>Gold</th>\n",
       "      <th>Platinum</th>\n",
       "      <th>Silver</th>\n",
       "      <th>White</th>\n",
       "    </tr>\n",
       "    <tr>\n",
       "      <th>sex</th>\n",
       "      <th></th>\n",
       "      <th></th>\n",
       "      <th></th>\n",
       "      <th></th>\n",
       "      <th></th>\n",
       "      <th></th>\n",
       "      <th></th>\n",
       "      <th></th>\n",
       "      <th></th>\n",
       "      <th></th>\n",
       "    </tr>\n",
       "  </thead>\n",
       "  <tbody>\n",
       "    <tr>\n",
       "      <th>F</th>\n",
       "      <td>27</td>\n",
       "      <td>39</td>\n",
       "      <td>12</td>\n",
       "      <td>40</td>\n",
       "      <td>11</td>\n",
       "      <td>0.011508</td>\n",
       "      <td>0.021638</td>\n",
       "      <td>-0.006422</td>\n",
       "      <td>0.007590</td>\n",
       "      <td>-0.019738</td>\n",
       "    </tr>\n",
       "    <tr>\n",
       "      <th>M</th>\n",
       "      <td>35</td>\n",
       "      <td>24</td>\n",
       "      <td>10</td>\n",
       "      <td>55</td>\n",
       "      <td>20</td>\n",
       "      <td>0.010000</td>\n",
       "      <td>0.000007</td>\n",
       "      <td>0.031278</td>\n",
       "      <td>-0.005964</td>\n",
       "      <td>-0.025750</td>\n",
       "    </tr>\n",
       "  </tbody>\n",
       "</table>\n",
       "</div>"
      ],
      "text/plain": [
       "          len                                 mean                      \\\n",
       "          bmi                                  bmi                       \n",
       "category Blue Gold Platinum Silver White      Blue      Gold  Platinum   \n",
       "sex                                                                      \n",
       "F          27   39       12     40    11  0.011508  0.021638 -0.006422   \n",
       "M          35   24       10     55    20  0.010000  0.000007  0.031278   \n",
       "\n",
       "                              \n",
       "                              \n",
       "category    Silver     White  \n",
       "sex                           \n",
       "F         0.007590 -0.019738  \n",
       "M        -0.005964 -0.025750  "
      ]
     },
     "execution_count": 33,
     "metadata": {},
     "output_type": "execute_result"
    }
   ],
   "source": [
    "#https://pandas.pydata.org/pandas-docs/stable/reference/api/pandas.pivot_table.html\n",
    "pd.pivot_table(df, \n",
    "    index=['sex'], #row\n",
    "    columns=['category'], #columns\n",
    "    values=['bmi'],\n",
    "    aggfunc=[len,np.mean],\n",
    "    fill_value=0 #Value to replace missing values with\n",
    "    )\n"
   ]
  },
  {
   "cell_type": "code",
   "execution_count": null,
   "metadata": {
    "button": false,
    "new_sheet": false,
    "run_control": {
     "read_only": false
    }
   },
   "outputs": [],
   "source": []
  }
 ],
 "metadata": {
  "kernelspec": {
   "display_name": "Python 3",
   "language": "python",
   "name": "python3"
  },
  "language_info": {
   "codemirror_mode": {
    "name": "ipython",
    "version": 3
   },
   "file_extension": ".py",
   "mimetype": "text/x-python",
   "name": "python",
   "nbconvert_exporter": "python",
   "pygments_lexer": "ipython3",
   "version": "3.7.3"
  }
 },
 "nbformat": 4,
 "nbformat_minor": 2
}
