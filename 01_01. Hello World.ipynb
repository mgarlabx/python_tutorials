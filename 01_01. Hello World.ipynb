{
 "cells": [
  {
   "cell_type": "markdown",
   "metadata": {
    "button": false,
    "new_sheet": false,
    "run_control": {
     "read_only": false
    }
   },
   "source": [
    "# Python Tutorials\n",
    "\n",
    "### Hello World\n",
    "\n",
    "Solvertank Digital Science   \n",
    "[http://www.solvertank.com](http://www.solvertank.com)   \n",
    "<img src=\"cube.gif\" align=\"left\" width=\"50\" />"
   ]
  },
  {
   "cell_type": "code",
   "execution_count": null,
   "metadata": {
    "button": false,
    "new_sheet": false,
    "run_control": {
     "read_only": false
    },
    "scrolled": true
   },
   "outputs": [],
   "source": [
    "# print\n",
    "print('Hello World')"
   ]
  },
  {
   "cell_type": "code",
   "execution_count": null,
   "metadata": {
    "button": false,
    "new_sheet": false,
    "run_control": {
     "read_only": false
    }
   },
   "outputs": [],
   "source": [
    "# line break\n",
    "print('Hello World\\nAnother line')"
   ]
  },
  {
   "cell_type": "code",
   "execution_count": null,
   "metadata": {
    "button": false,
    "new_sheet": false,
    "run_control": {
     "read_only": false
    }
   },
   "outputs": [],
   "source": [
    "# format\n",
    "a = 18\n",
    "b = 45\n",
    "c = a + b\n",
    "\n",
    "print('The value of a is {}\\nThe value of b is {}\\nThe sum of a and b is {}'.format(a, b, c))\n",
    "\n",
    "print('{} + {} = {}'.format(a, b, c))"
   ]
  },
  {
   "cell_type": "code",
   "execution_count": null,
   "metadata": {
    "button": false,
    "new_sheet": false,
    "run_control": {
     "read_only": false
    }
   },
   "outputs": [],
   "source": [
    "# if else (note identation)\n",
    "a = 427\n",
    "b = 145\n",
    "\n",
    "if b > a:\n",
    "    print(\"b > a\")\n",
    "    print(\"xxxx\")\n",
    "elif a > b:\n",
    "    print(\"a > b\")\n",
    "    print(\"yyyy\")\n",
    "else:\n",
    "    print(\"a = b\")\n",
    "    print(\"zzzz\")\n",
    "\n",
    "print(\"wwww\")"
   ]
  },
  {
   "cell_type": "code",
   "execution_count": null,
   "metadata": {
    "button": false,
    "new_sheet": false,
    "run_control": {
     "read_only": false
    },
    "scrolled": true
   },
   "outputs": [],
   "source": [
    "# loop\n",
    "for x in range(10): \n",
    "    if x > 5: break\n",
    "    print(x)"
   ]
  },
  {
   "cell_type": "code",
   "execution_count": null,
   "metadata": {
    "button": false,
    "new_sheet": false,
    "run_control": {
     "read_only": false
    }
   },
   "outputs": [],
   "source": [
    "# function\n",
    "def add(a, b):\n",
    "    c = a + b\n",
    "    return c\n",
    "\n",
    "print(add(4,5))"
   ]
  }
 ],
 "metadata": {
  "kernelspec": {
   "display_name": "Python 3 (ipykernel)",
   "language": "python",
   "name": "python3"
  },
  "language_info": {
   "codemirror_mode": {
    "name": "ipython",
    "version": 3
   },
   "file_extension": ".py",
   "mimetype": "text/x-python",
   "name": "python",
   "nbconvert_exporter": "python",
   "pygments_lexer": "ipython3",
   "version": "3.9.7"
  }
 },
 "nbformat": 4,
 "nbformat_minor": 2
}
